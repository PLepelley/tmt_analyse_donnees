{
 "cells": [
  {
   "cell_type": "markdown",
   "metadata": {
    "id": "E7v5_7vufDvr"
   },
   "source": [
    "# Traitement, Visualisation et Analyse des données"
   ]
  },
  {
   "cell_type": "markdown",
   "metadata": {
    "id": "rKYLeETwgCTK"
   },
   "source": [
    "## 1 - Déploiement de l’environnement\n",
    "Lister les bibliothèques:"
   ]
  },
  {
   "cell_type": "code",
   "execution_count": 1,
   "metadata": {
    "colab": {
     "base_uri": "https://localhost:8080/"
    },
    "id": "HGqj5309gJM4",
    "outputId": "c88af3d5-a454-4628-a872-129685c432f8"
   },
   "outputs": [
    {
     "name": "stdout",
     "output_type": "stream",
     "text": [
      "Package                            Version\n",
      "---------------------------------- -------------------\n",
      "alabaster                          0.7.12\n",
      "anaconda-client                    1.7.2\n",
      "anaconda-navigator                 1.9.12\n",
      "anaconda-project                   0.8.3\n",
      "argh                               0.26.2\n",
      "asn1crypto                         1.3.0\n",
      "astroid                            2.4.2\n",
      "astropy                            4.0.1.post1\n",
      "atomicwrites                       1.4.0\n",
      "attrs                              19.3.0\n",
      "autopep8                           1.5.3\n",
      "Babel                              2.8.0\n",
      "backcall                           0.2.0\n",
      "backports.functools-lru-cache      1.6.1\n",
      "backports.shutil-get-terminal-size 1.0.0\n",
      "backports.tempfile                 1.0\n",
      "backports.weakref                  1.0.post1\n",
      "bcrypt                             3.1.7\n",
      "beautifulsoup4                     4.9.1\n",
      "bitarray                           1.4.0\n",
      "bkcharts                           0.2\n",
      "black                              21.12b0\n",
      "bleach                             3.1.5\n",
      "Note: you may need to restart the kernel to use updated packages.\n",
      "bokeh                              2.1.1\n",
      "boto                               2.49.0\n",
      "Bottleneck                         1.3.2\n",
      "brotlipy                           0.7.0\n",
      "certifi                            2020.6.20\n",
      "cffi                               1.14.0\n",
      "chardet                            3.0.4\n",
      "click                              7.1.2\n",
      "cloudpickle                        1.5.0\n",
      "clyent                             1.2.2\n",
      "colorama                           0.4.3\n",
      "comtypes                           1.1.7\n",
      "conda                              4.9.0\n",
      "conda-build                        3.18.11\n",
      "conda-package-handling             1.7.0\n",
      "conda-verify                       3.4.2\n",
      "contextlib2                        0.6.0.post1\n",
      "cryptography                       2.9.2\n",
      "cycler                             0.10.0\n",
      "Cython                             0.29.21\n",
      "cytoolz                            0.10.1\n",
      "dask                               2.20.0\n",
      "decorator                          4.4.2\n",
      "defusedxml                         0.6.0\n",
      "diff-match-patch                   20200713\n",
      "distributed                        2.20.0\n",
      "docutils                           0.16\n",
      "entrypoints                        0.3\n",
      "et-xmlfile                         1.0.1\n",
      "fastcache                          1.1.0\n",
      "filelock                           3.0.12\n",
      "flake8                             3.8.3\n",
      "Flask                              1.1.2\n",
      "fsspec                             0.7.4\n",
      "future                             0.18.2\n",
      "gevent                             20.6.2\n",
      "glob2                              0.7\n",
      "gmpy2                              2.0.8\n",
      "greenlet                           0.4.16\n",
      "h5py                               2.10.0\n",
      "HeapDict                           1.0.1\n",
      "html5lib                           1.1\n",
      "idna                               2.10\n",
      "imageio                            2.9.0\n",
      "imagesize                          1.2.0\n",
      "importlib-metadata                 1.7.0\n",
      "intervaltree                       3.0.2\n",
      "ipykernel                          5.3.2\n",
      "ipython                            7.16.1\n",
      "ipython-genutils                   0.2.0\n",
      "ipywidgets                         7.5.1\n",
      "isort                              4.3.21\n",
      "itsdangerous                       1.1.0\n",
      "jdcal                              1.4.1\n",
      "jedi                               0.17.1\n",
      "Jinja2                             2.11.2\n",
      "joblib                             0.16.0\n",
      "json5                              0.9.5\n",
      "jsonschema                         3.2.0\n",
      "jupyter                            1.0.0\n",
      "jupyter-client                     6.1.6\n",
      "jupyter-console                    6.1.0\n",
      "jupyter-core                       4.6.3\n",
      "jupyterlab                         2.1.5\n",
      "jupyterlab-server                  1.2.0\n",
      "keyring                            21.2.1\n",
      "kiwisolver                         1.2.0\n",
      "lazy-object-proxy                  1.4.3\n",
      "libarchive-c                       2.9\n",
      "llvmlite                           0.33.0+1.g022ab0f\n",
      "locket                             0.2.0\n",
      "lxml                               4.5.2\n",
      "MarkupSafe                         1.1.1\n",
      "matplotlib                         3.2.2\n",
      "mccabe                             0.6.1\n",
      "menuinst                           1.4.16\n",
      "mistune                            0.8.4\n",
      "mkl-fft                            1.1.0\n",
      "mkl-random                         1.1.1\n",
      "mkl-service                        2.3.0\n",
      "mock                               4.0.2\n",
      "more-itertools                     8.4.0\n",
      "mpmath                             1.1.0\n",
      "msgpack                            1.0.0\n",
      "multipledispatch                   0.6.0\n",
      "mypy-extensions                    0.4.3\n",
      "mysql-connector-python             8.0.27\n",
      "navigator-updater                  0.2.1\n",
      "nbconvert                          5.6.1\n",
      "nbformat                           5.0.7\n",
      "networkx                           2.4\n",
      "nltk                               3.5\n",
      "nose                               1.3.7\n",
      "notebook                           6.0.3\n",
      "numba                              0.50.1\n",
      "numexpr                            2.7.1\n",
      "numpy                              1.18.5\n",
      "numpydoc                           1.1.0\n",
      "olefile                            0.46\n",
      "openpyxl                           3.0.4\n",
      "packaging                          20.4\n",
      "pandas                             1.3.5\n",
      "pandocfilters                      1.4.2\n",
      "paramiko                           2.7.1\n",
      "parso                              0.7.0\n",
      "partd                              1.1.0\n",
      "path                               13.1.0\n",
      "pathlib2                           2.3.5\n",
      "pathspec                           0.9.0\n",
      "pathtools                          0.1.2\n",
      "patsy                              0.5.1\n",
      "pep8                               1.7.1\n",
      "pexpect                            4.8.0\n",
      "pickleshare                        0.7.5\n",
      "Pillow                             7.2.0\n",
      "pip                                20.1.1\n",
      "pkginfo                            1.5.0.1\n",
      "platformdirs                       2.4.0\n",
      "pluggy                             0.13.1\n",
      "ply                                3.11\n",
      "prometheus-client                  0.8.0\n",
      "prompt-toolkit                     3.0.5\n",
      "protobuf                           3.19.1\n",
      "psutil                             5.7.0\n",
      "py                                 1.9.0\n",
      "pycodestyle                        2.6.0\n",
      "pycosat                            0.6.3\n",
      "pycparser                          2.20\n",
      "pycurl                             7.43.0.5\n",
      "pydocstyle                         5.0.2\n",
      "pyflakes                           2.2.0\n",
      "Pygments                           2.6.1\n",
      "pylint                             2.5.3\n",
      "PyNaCl                             1.4.0\n",
      "pyodbc                             4.0.0-unsupported\n",
      "pyOpenSSL                          19.1.0\n",
      "pyparsing                          2.4.7\n",
      "pyreadline                         2.1\n",
      "pyrsistent                         0.16.0\n",
      "PySide2                            5.15.2\n",
      "PySide6                            6.2.2.1\n",
      "PySocks                            1.7.1\n",
      "pytest                             5.4.3\n",
      "python-dateutil                    2.8.1\n",
      "python-jsonrpc-server              0.3.4\n",
      "python-language-server             0.34.1\n",
      "pytz                               2020.1\n",
      "PyWavelets                         1.1.1\n",
      "pywin32                            227\n",
      "pywin32-ctypes                     0.2.0\n",
      "pywinpty                           0.5.7\n",
      "PyYAML                             5.3.1\n",
      "pyzmq                              19.0.1\n",
      "QDarkStyle                         2.8.1\n",
      "QtAwesome                          0.7.2\n",
      "qtconsole                          4.7.5\n",
      "QtPy                               1.9.0\n",
      "regex                              2020.6.8\n",
      "requests                           2.24.0\n",
      "rope                               0.17.0\n",
      "Rtree                              0.9.4\n",
      "ruamel-yaml                        0.15.87\n",
      "scikit-image                       0.16.2\n",
      "scikit-learn                       0.23.1\n",
      "scipy                              1.5.0\n",
      "seaborn                            0.10.1\n",
      "Send2Trash                         1.5.0\n",
      "setuptools                         49.2.0.post20200714\n",
      "shiboken2                          5.15.2\n",
      "shiboken6                          6.2.2.1\n",
      "simplegeneric                      0.8.1\n",
      "singledispatch                     3.4.0.3\n",
      "sip                                4.19.13\n",
      "six                                1.15.0\n",
      "snowballstemmer                    2.0.0\n",
      "sortedcollections                  1.2.1\n",
      "sortedcontainers                   2.2.2\n",
      "soupsieve                          2.0.1\n",
      "Sphinx                             3.1.2\n",
      "sphinxcontrib-applehelp            1.0.2\n",
      "sphinxcontrib-devhelp              1.0.2\n",
      "sphinxcontrib-htmlhelp             1.0.3\n",
      "sphinxcontrib-jsmath               1.0.1\n",
      "sphinxcontrib-qthelp               1.0.3\n",
      "sphinxcontrib-serializinghtml      1.1.4\n",
      "sphinxcontrib-websupport           1.2.3\n",
      "spyder                             4.1.4\n",
      "spyder-kernels                     1.9.2\n",
      "SQLAlchemy                         1.3.18\n",
      "statsmodels                        0.11.1\n",
      "sympy                              1.6.1\n"
     ]
    }
   ],
   "source": [
    "pip list"
   ]
  },
  {
   "cell_type": "markdown",
   "metadata": {
    "id": "VRw8o9mie3N1"
   },
   "source": [
    "## Importation des librairies"
   ]
  },
  {
   "cell_type": "code",
   "execution_count": 2,
   "metadata": {
    "colab": {
     "base_uri": "https://localhost:8080/",
     "height": 423
    },
    "id": "V60DDroAepGo",
    "outputId": "e6d1d474-c61b-4cf4-bdf8-b838a1a34c43"
   },
   "outputs": [
    {
     "name": "stdout",
     "output_type": "stream",
     "text": [
      "tables                             3.6.1\n",
      "tblib                              1.6.0\n",
      "terminado                          0.8.3\n",
      "testpath                           0.4.4\n",
      "threadpoolctl                      2.1.0\n",
      "toml                               0.10.1\n",
      "tomli                              1.2.3\n",
      "toolz                              0.10.0\n",
      "tornado                            6.0.4\n",
      "tqdm                               4.47.0\n",
      "traitlets                          4.3.3\n",
      "typing-extensions                  4.0.1\n",
      "ujson                              1.35\n",
      "unicodecsv                         0.14.1\n",
      "urllib3                            1.25.9\n",
      "watchdog                           0.10.3\n",
      "wcwidth                            0.2.5\n",
      "webencodings                       0.5.1\n",
      "Werkzeug                           1.0.1\n",
      "wheel                              0.34.2\n",
      "widgetsnbextension                 3.5.1\n",
      "win-inet-pton                      1.1.0\n",
      "win-unicode-console                0.5\n",
      "wincertstore                       0.2\n",
      "wrapt                              1.11.2\n",
      "xlrd                               1.2.0\n",
      "XlsxWriter                         1.2.9\n",
      "xlwings                            0.19.5\n",
      "xlwt                               1.3.0\n",
      "xmltodict                          0.12.0\n",
      "yapf                               0.30.0\n",
      "zict                               2.0.0\n",
      "zipp                               3.1.0\n",
      "zope.event                         4.4\n",
      "zope.interface                     4.7.1\n"
     ]
    }
   ],
   "source": [
    "#-------- Librairies --------#\n",
    "import pandas as pd\n",
    "import matplotlib.pyplot as plt\n",
    "import scipy as sp\n",
    "from scipy import stats\n",
    "import numpy as np\n"
   ]
  },
  {
   "cell_type": "markdown",
   "metadata": {
    "id": "qEzzSnfhgtGu"
   },
   "source": [
    "## 2 - Source de données : manipulation\n",
    "#### Chargement et visualisation des données"
   ]
  },
  {
   "cell_type": "code",
   "execution_count": 3,
   "metadata": {
    "id": "ajBtPT0Bgxhk"
   },
   "outputs": [
    {
     "data": {
      "text/html": [
       "<div>\n",
       "<style scoped>\n",
       "    .dataframe tbody tr th:only-of-type {\n",
       "        vertical-align: middle;\n",
       "    }\n",
       "\n",
       "    .dataframe tbody tr th {\n",
       "        vertical-align: top;\n",
       "    }\n",
       "\n",
       "    .dataframe thead th {\n",
       "        text-align: right;\n",
       "    }\n",
       "</style>\n",
       "<table border=\"1\" class=\"dataframe\">\n",
       "  <thead>\n",
       "    <tr style=\"text-align: right;\">\n",
       "      <th></th>\n",
       "      <th>ID_NOM</th>\n",
       "      <th>Niv_Etude_Bac</th>\n",
       "      <th>age</th>\n",
       "      <th>contrat_de_travail</th>\n",
       "      <th>Salaire</th>\n",
       "      <th>dette_anterieure</th>\n",
       "      <th>etat_civile</th>\n",
       "      <th>apport</th>\n",
       "      <th>enfant_a_Charge</th>\n",
       "      <th>Solvable</th>\n",
       "    </tr>\n",
       "  </thead>\n",
       "  <tbody>\n",
       "    <tr>\n",
       "      <th>0</th>\n",
       "      <td>jean</td>\n",
       "      <td>3.0</td>\n",
       "      <td>45</td>\n",
       "      <td>CDI</td>\n",
       "      <td>40000</td>\n",
       "      <td>4000</td>\n",
       "      <td>M</td>\n",
       "      <td>0.3</td>\n",
       "      <td>3.0</td>\n",
       "      <td>OUI</td>\n",
       "    </tr>\n",
       "    <tr>\n",
       "      <th>1</th>\n",
       "      <td>VANESSA</td>\n",
       "      <td>5.0</td>\n",
       "      <td>28</td>\n",
       "      <td>CDI</td>\n",
       "      <td>30500</td>\n",
       "      <td>1320</td>\n",
       "      <td>M</td>\n",
       "      <td>0.1</td>\n",
       "      <td>0.0</td>\n",
       "      <td>OUI</td>\n",
       "    </tr>\n",
       "    <tr>\n",
       "      <th>2</th>\n",
       "      <td>TARCISSE</td>\n",
       "      <td>0.0</td>\n",
       "      <td>55</td>\n",
       "      <td>CDI</td>\n",
       "      <td>28000</td>\n",
       "      <td>40000</td>\n",
       "      <td>C</td>\n",
       "      <td>0.0</td>\n",
       "      <td>0.0</td>\n",
       "      <td>NON</td>\n",
       "    </tr>\n",
       "    <tr>\n",
       "      <th>3</th>\n",
       "      <td>TIBAULT</td>\n",
       "      <td>4.0</td>\n",
       "      <td>23</td>\n",
       "      <td>CDD</td>\n",
       "      <td>15000</td>\n",
       "      <td>0</td>\n",
       "      <td>M</td>\n",
       "      <td>0.1</td>\n",
       "      <td>NaN</td>\n",
       "      <td>OUI</td>\n",
       "    </tr>\n",
       "    <tr>\n",
       "      <th>4</th>\n",
       "      <td>GILES</td>\n",
       "      <td>0.0</td>\n",
       "      <td>33</td>\n",
       "      <td>CDD</td>\n",
       "      <td>27000</td>\n",
       "      <td>3000</td>\n",
       "      <td>C</td>\n",
       "      <td>0.1</td>\n",
       "      <td>2.0</td>\n",
       "      <td>NON</td>\n",
       "    </tr>\n",
       "  </tbody>\n",
       "</table>\n",
       "</div>"
      ],
      "text/plain": [
       "     ID_NOM  Niv_Etude_Bac  age contrat_de_travail  Salaire  dette_anterieure  \\\n",
       "0      jean            3.0   45                CDI    40000              4000   \n",
       "1   VANESSA            5.0   28                CDI    30500              1320   \n",
       "2  TARCISSE            0.0   55                CDI    28000             40000   \n",
       "3   TIBAULT            4.0   23                CDD    15000                 0   \n",
       "4     GILES            0.0   33                CDD    27000              3000   \n",
       "\n",
       "  etat_civile  apport  enfant_a_Charge Solvable  \n",
       "0           M     0.3              3.0      OUI  \n",
       "1           M     0.1              0.0      OUI  \n",
       "2           C     0.0              0.0      NON  \n",
       "3           M     0.1              NaN      OUI  \n",
       "4           C     0.1              2.0      NON  "
      ]
     },
     "execution_count": 3,
     "metadata": {},
     "output_type": "execute_result"
    }
   ],
   "source": [
    "path='./bdd/credit_immo/credit_immo.csv'\n",
    "df_credit_immo1 = pd.read_csv(path)\n",
    "df_credit_immo1.head()"
   ]
  },
  {
   "cell_type": "code",
   "execution_count": 4,
   "metadata": {},
   "outputs": [
    {
     "data": {
      "text/html": [
       "<div>\n",
       "<style scoped>\n",
       "    .dataframe tbody tr th:only-of-type {\n",
       "        vertical-align: middle;\n",
       "    }\n",
       "\n",
       "    .dataframe tbody tr th {\n",
       "        vertical-align: top;\n",
       "    }\n",
       "\n",
       "    .dataframe thead th {\n",
       "        text-align: right;\n",
       "    }\n",
       "</style>\n",
       "<table border=\"1\" class=\"dataframe\">\n",
       "  <thead>\n",
       "    <tr style=\"text-align: right;\">\n",
       "      <th></th>\n",
       "      <th>ID_NOM</th>\n",
       "      <th>Niv_Etude_Bac</th>\n",
       "      <th>age</th>\n",
       "      <th>contrat_de_travail</th>\n",
       "      <th>Salaire</th>\n",
       "      <th>dette_anterieure</th>\n",
       "      <th>etat_civile</th>\n",
       "      <th>apport</th>\n",
       "      <th>enfant_a_Charge</th>\n",
       "      <th>Solvable</th>\n",
       "    </tr>\n",
       "  </thead>\n",
       "  <tbody>\n",
       "    <tr>\n",
       "      <th>0</th>\n",
       "      <td>jean</td>\n",
       "      <td>3.0</td>\n",
       "      <td>45</td>\n",
       "      <td>CDI</td>\n",
       "      <td>40000</td>\n",
       "      <td>4000</td>\n",
       "      <td>M</td>\n",
       "      <td>0.3</td>\n",
       "      <td>3.0</td>\n",
       "      <td>OUI</td>\n",
       "    </tr>\n",
       "    <tr>\n",
       "      <th>1</th>\n",
       "      <td>VANESSA</td>\n",
       "      <td>5.0</td>\n",
       "      <td>28</td>\n",
       "      <td>CDI</td>\n",
       "      <td>30500</td>\n",
       "      <td>1320</td>\n",
       "      <td>M</td>\n",
       "      <td>0.1</td>\n",
       "      <td>0.0</td>\n",
       "      <td>OUI</td>\n",
       "    </tr>\n",
       "    <tr>\n",
       "      <th>2</th>\n",
       "      <td>TARCISSE</td>\n",
       "      <td>0.0</td>\n",
       "      <td>55</td>\n",
       "      <td>CDI</td>\n",
       "      <td>28000</td>\n",
       "      <td>40000</td>\n",
       "      <td>C</td>\n",
       "      <td>0.0</td>\n",
       "      <td>0.0</td>\n",
       "      <td>NON</td>\n",
       "    </tr>\n",
       "    <tr>\n",
       "      <th>3</th>\n",
       "      <td>TIBAULT</td>\n",
       "      <td>4.0</td>\n",
       "      <td>23</td>\n",
       "      <td>CDD</td>\n",
       "      <td>15000</td>\n",
       "      <td>0</td>\n",
       "      <td>M</td>\n",
       "      <td>0.1</td>\n",
       "      <td>NaN</td>\n",
       "      <td>OUI</td>\n",
       "    </tr>\n",
       "    <tr>\n",
       "      <th>4</th>\n",
       "      <td>GILES</td>\n",
       "      <td>0.0</td>\n",
       "      <td>33</td>\n",
       "      <td>CDD</td>\n",
       "      <td>27000</td>\n",
       "      <td>3000</td>\n",
       "      <td>C</td>\n",
       "      <td>0.1</td>\n",
       "      <td>2.0</td>\n",
       "      <td>NON</td>\n",
       "    </tr>\n",
       "  </tbody>\n",
       "</table>\n",
       "</div>"
      ],
      "text/plain": [
       "     ID_NOM  Niv_Etude_Bac  age contrat_de_travail  Salaire  dette_anterieure  \\\n",
       "0      jean            3.0   45                CDI    40000              4000   \n",
       "1   VANESSA            5.0   28                CDI    30500              1320   \n",
       "2  TARCISSE            0.0   55                CDI    28000             40000   \n",
       "3   TIBAULT            4.0   23                CDD    15000                 0   \n",
       "4     GILES            0.0   33                CDD    27000              3000   \n",
       "\n",
       "  etat_civile  apport  enfant_a_Charge Solvable  \n",
       "0           M     0.3              3.0      OUI  \n",
       "1           M     0.1              0.0      OUI  \n",
       "2           C     0.0              0.0      NON  \n",
       "3           M     0.1              NaN      OUI  \n",
       "4           C     0.1              2.0      NON  "
      ]
     },
     "execution_count": 4,
     "metadata": {},
     "output_type": "execute_result"
    }
   ],
   "source": [
    "path='./bdd/credit_immo/credit_immo.xls'\n",
    "df_credit_immo2 = pd.read_excel(path)\n",
    "df_credit_immo2.head()"
   ]
  },
  {
   "cell_type": "code",
   "execution_count": 5,
   "metadata": {},
   "outputs": [
    {
     "data": {
      "text/html": [
       "<div>\n",
       "<style scoped>\n",
       "    .dataframe tbody tr th:only-of-type {\n",
       "        vertical-align: middle;\n",
       "    }\n",
       "\n",
       "    .dataframe tbody tr th {\n",
       "        vertical-align: top;\n",
       "    }\n",
       "\n",
       "    .dataframe thead th {\n",
       "        text-align: right;\n",
       "    }\n",
       "</style>\n",
       "<table border=\"1\" class=\"dataframe\">\n",
       "  <thead>\n",
       "    <tr style=\"text-align: right;\">\n",
       "      <th></th>\n",
       "      <th>Salaire</th>\n",
       "      <th>ID_NOM</th>\n",
       "      <th>dette_anterieure</th>\n",
       "      <th>apport</th>\n",
       "      <th>contrat_de_travail</th>\n",
       "      <th>enfant_a_Charge</th>\n",
       "      <th>etat_civile</th>\n",
       "      <th>Solvable</th>\n",
       "      <th>age</th>\n",
       "      <th>Niv_Etude_Bac</th>\n",
       "    </tr>\n",
       "  </thead>\n",
       "  <tbody>\n",
       "    <tr>\n",
       "      <th>0</th>\n",
       "      <td>40000</td>\n",
       "      <td>jean</td>\n",
       "      <td>4000</td>\n",
       "      <td>0.3</td>\n",
       "      <td>CDI</td>\n",
       "      <td>3</td>\n",
       "      <td>M</td>\n",
       "      <td>OUI</td>\n",
       "      <td>45</td>\n",
       "      <td>3</td>\n",
       "    </tr>\n",
       "    <tr>\n",
       "      <th>1</th>\n",
       "      <td>30500</td>\n",
       "      <td>VANESSA</td>\n",
       "      <td>1320</td>\n",
       "      <td>0.1</td>\n",
       "      <td>CDI</td>\n",
       "      <td>0</td>\n",
       "      <td>M</td>\n",
       "      <td>OUI</td>\n",
       "      <td>28</td>\n",
       "      <td>5</td>\n",
       "    </tr>\n",
       "    <tr>\n",
       "      <th>2</th>\n",
       "      <td>28000</td>\n",
       "      <td>TARCISSE</td>\n",
       "      <td>40000</td>\n",
       "      <td>0.0</td>\n",
       "      <td>CDI</td>\n",
       "      <td>0</td>\n",
       "      <td>C</td>\n",
       "      <td>NON</td>\n",
       "      <td>55</td>\n",
       "      <td>0</td>\n",
       "    </tr>\n",
       "    <tr>\n",
       "      <th>3</th>\n",
       "      <td>15000</td>\n",
       "      <td>TIBAULT</td>\n",
       "      <td>0</td>\n",
       "      <td>0.1</td>\n",
       "      <td>CDD</td>\n",
       "      <td></td>\n",
       "      <td>M</td>\n",
       "      <td>OUI</td>\n",
       "      <td>23</td>\n",
       "      <td>4</td>\n",
       "    </tr>\n",
       "    <tr>\n",
       "      <th>4</th>\n",
       "      <td>27000</td>\n",
       "      <td>GILES</td>\n",
       "      <td>3000</td>\n",
       "      <td>0.1</td>\n",
       "      <td>CDD</td>\n",
       "      <td>2</td>\n",
       "      <td>C</td>\n",
       "      <td>NON</td>\n",
       "      <td>33</td>\n",
       "      <td>0</td>\n",
       "    </tr>\n",
       "  </tbody>\n",
       "</table>\n",
       "</div>"
      ],
      "text/plain": [
       "   Salaire    ID_NOM  dette_anterieure  apport contrat_de_travail  \\\n",
       "0    40000      jean              4000     0.3                CDI   \n",
       "1    30500   VANESSA              1320     0.1                CDI   \n",
       "2    28000  TARCISSE             40000     0.0                CDI   \n",
       "3    15000   TIBAULT                 0     0.1                CDD   \n",
       "4    27000     GILES              3000     0.1                CDD   \n",
       "\n",
       "  enfant_a_Charge etat_civile Solvable  age Niv_Etude_Bac  \n",
       "0               3           M      OUI   45             3  \n",
       "1               0           M      OUI   28             5  \n",
       "2               0           C      NON   55             0  \n",
       "3                           M      OUI   23             4  \n",
       "4               2           C      NON   33             0  "
      ]
     },
     "execution_count": 5,
     "metadata": {},
     "output_type": "execute_result"
    }
   ],
   "source": [
    "path='./bdd/credit_immo/credit_immo.json'\n",
    "df_credit_immo3 = pd.read_json(path)\n",
    "df_credit_immo3.head()"
   ]
  },
  {
   "cell_type": "markdown",
   "metadata": {},
   "source": [
    "#### Création d'une base de données"
   ]
  },
  {
   "cell_type": "code",
   "execution_count": 6,
   "metadata": {},
   "outputs": [
    {
     "data": {
      "text/plain": [
       "array([[9, 2, 5, 6],\n",
       "       [7, 8, 4, 9],\n",
       "       [9, 3, 1, 2],\n",
       "       [3, 4, 4, 4],\n",
       "       [7, 9, 7, 6],\n",
       "       [9, 6, 6, 8]])"
      ]
     },
     "execution_count": 6,
     "metadata": {},
     "output_type": "execute_result"
    }
   ],
   "source": [
    "#Création d'un array\n",
    "list= []\n",
    "for i in range(0, 6):\n",
    "    list.append(np.random.randint(1, 10, 4))\n",
    "ar = np.array(list)\n",
    "ar"
   ]
  },
  {
   "cell_type": "code",
   "execution_count": 7,
   "metadata": {},
   "outputs": [
    {
     "data": {
      "text/html": [
       "<div>\n",
       "<style scoped>\n",
       "    .dataframe tbody tr th:only-of-type {\n",
       "        vertical-align: middle;\n",
       "    }\n",
       "\n",
       "    .dataframe tbody tr th {\n",
       "        vertical-align: top;\n",
       "    }\n",
       "\n",
       "    .dataframe thead th {\n",
       "        text-align: right;\n",
       "    }\n",
       "</style>\n",
       "<table border=\"1\" class=\"dataframe\">\n",
       "  <thead>\n",
       "    <tr style=\"text-align: right;\">\n",
       "      <th></th>\n",
       "      <th>taux_de_ventes</th>\n",
       "      <th>croissance_vente</th>\n",
       "      <th>ratio_benefice</th>\n",
       "      <th>ratio_perte</th>\n",
       "    </tr>\n",
       "  </thead>\n",
       "  <tbody>\n",
       "    <tr>\n",
       "      <th>0</th>\n",
       "      <td>9</td>\n",
       "      <td>2</td>\n",
       "      <td>5</td>\n",
       "      <td>6</td>\n",
       "    </tr>\n",
       "    <tr>\n",
       "      <th>1</th>\n",
       "      <td>7</td>\n",
       "      <td>8</td>\n",
       "      <td>4</td>\n",
       "      <td>9</td>\n",
       "    </tr>\n",
       "    <tr>\n",
       "      <th>2</th>\n",
       "      <td>9</td>\n",
       "      <td>3</td>\n",
       "      <td>1</td>\n",
       "      <td>2</td>\n",
       "    </tr>\n",
       "    <tr>\n",
       "      <th>3</th>\n",
       "      <td>3</td>\n",
       "      <td>4</td>\n",
       "      <td>4</td>\n",
       "      <td>4</td>\n",
       "    </tr>\n",
       "    <tr>\n",
       "      <th>4</th>\n",
       "      <td>7</td>\n",
       "      <td>9</td>\n",
       "      <td>7</td>\n",
       "      <td>6</td>\n",
       "    </tr>\n",
       "    <tr>\n",
       "      <th>5</th>\n",
       "      <td>9</td>\n",
       "      <td>6</td>\n",
       "      <td>6</td>\n",
       "      <td>8</td>\n",
       "    </tr>\n",
       "  </tbody>\n",
       "</table>\n",
       "</div>"
      ],
      "text/plain": [
       "   taux_de_ventes  croissance_vente  ratio_benefice  ratio_perte\n",
       "0               9                 2               5            6\n",
       "1               7                 8               4            9\n",
       "2               9                 3               1            2\n",
       "3               3                 4               4            4\n",
       "4               7                 9               7            6\n",
       "5               9                 6               6            8"
      ]
     },
     "execution_count": 7,
     "metadata": {},
     "output_type": "execute_result"
    }
   ],
   "source": [
    "#Création d'un dataframe formé de 6 lignes et 4 colonnes\n",
    "df1 = pd.DataFrame(ar, index=[0, 1, 2, 3, 4, 5], columns = ['taux_de_ventes', 'croissance_vente', 'ratio_benefice', 'ratio_perte'])\n",
    "df1"
   ]
  },
  {
   "cell_type": "markdown",
   "metadata": {},
   "source": [
    "#### Manipulation du dataframe"
   ]
  },
  {
   "cell_type": "code",
   "execution_count": 8,
   "metadata": {},
   "outputs": [],
   "source": [
    "df1 = df1.reindex([0,1, 2, 3, 4, 5, 6])"
   ]
  },
  {
   "cell_type": "code",
   "execution_count": 9,
   "metadata": {},
   "outputs": [
    {
     "data": {
      "text/html": [
       "<div>\n",
       "<style scoped>\n",
       "    .dataframe tbody tr th:only-of-type {\n",
       "        vertical-align: middle;\n",
       "    }\n",
       "\n",
       "    .dataframe tbody tr th {\n",
       "        vertical-align: top;\n",
       "    }\n",
       "\n",
       "    .dataframe thead th {\n",
       "        text-align: right;\n",
       "    }\n",
       "</style>\n",
       "<table border=\"1\" class=\"dataframe\">\n",
       "  <thead>\n",
       "    <tr style=\"text-align: right;\">\n",
       "      <th></th>\n",
       "      <th>taux_de_ventes</th>\n",
       "      <th>croissance_vente</th>\n",
       "      <th>ratio_benefice</th>\n",
       "      <th>ratio_perte</th>\n",
       "    </tr>\n",
       "  </thead>\n",
       "  <tbody>\n",
       "    <tr>\n",
       "      <th>0</th>\n",
       "      <td>False</td>\n",
       "      <td>False</td>\n",
       "      <td>False</td>\n",
       "      <td>False</td>\n",
       "    </tr>\n",
       "    <tr>\n",
       "      <th>1</th>\n",
       "      <td>False</td>\n",
       "      <td>False</td>\n",
       "      <td>False</td>\n",
       "      <td>False</td>\n",
       "    </tr>\n",
       "    <tr>\n",
       "      <th>2</th>\n",
       "      <td>False</td>\n",
       "      <td>False</td>\n",
       "      <td>False</td>\n",
       "      <td>False</td>\n",
       "    </tr>\n",
       "    <tr>\n",
       "      <th>3</th>\n",
       "      <td>False</td>\n",
       "      <td>False</td>\n",
       "      <td>False</td>\n",
       "      <td>False</td>\n",
       "    </tr>\n",
       "    <tr>\n",
       "      <th>4</th>\n",
       "      <td>False</td>\n",
       "      <td>False</td>\n",
       "      <td>False</td>\n",
       "      <td>False</td>\n",
       "    </tr>\n",
       "    <tr>\n",
       "      <th>5</th>\n",
       "      <td>False</td>\n",
       "      <td>False</td>\n",
       "      <td>False</td>\n",
       "      <td>False</td>\n",
       "    </tr>\n",
       "    <tr>\n",
       "      <th>6</th>\n",
       "      <td>True</td>\n",
       "      <td>True</td>\n",
       "      <td>True</td>\n",
       "      <td>True</td>\n",
       "    </tr>\n",
       "  </tbody>\n",
       "</table>\n",
       "</div>"
      ],
      "text/plain": [
       "   taux_de_ventes  croissance_vente  ratio_benefice  ratio_perte\n",
       "0           False             False           False        False\n",
       "1           False             False           False        False\n",
       "2           False             False           False        False\n",
       "3           False             False           False        False\n",
       "4           False             False           False        False\n",
       "5           False             False           False        False\n",
       "6            True              True            True         True"
      ]
     },
     "execution_count": 9,
     "metadata": {},
     "output_type": "execute_result"
    }
   ],
   "source": [
    "df1.isnull()"
   ]
  },
  {
   "cell_type": "code",
   "execution_count": 10,
   "metadata": {},
   "outputs": [
    {
     "data": {
      "text/html": [
       "<div>\n",
       "<style scoped>\n",
       "    .dataframe tbody tr th:only-of-type {\n",
       "        vertical-align: middle;\n",
       "    }\n",
       "\n",
       "    .dataframe tbody tr th {\n",
       "        vertical-align: top;\n",
       "    }\n",
       "\n",
       "    .dataframe thead th {\n",
       "        text-align: right;\n",
       "    }\n",
       "</style>\n",
       "<table border=\"1\" class=\"dataframe\">\n",
       "  <thead>\n",
       "    <tr style=\"text-align: right;\">\n",
       "      <th></th>\n",
       "      <th>taux_de_ventes</th>\n",
       "      <th>croissance_vente</th>\n",
       "      <th>ratio_benefice</th>\n",
       "      <th>ratio_perte</th>\n",
       "    </tr>\n",
       "  </thead>\n",
       "  <tbody>\n",
       "    <tr>\n",
       "      <th>0</th>\n",
       "      <td>9.0</td>\n",
       "      <td>2.0</td>\n",
       "      <td>5.0</td>\n",
       "      <td>6.0</td>\n",
       "    </tr>\n",
       "    <tr>\n",
       "      <th>1</th>\n",
       "      <td>7.0</td>\n",
       "      <td>8.0</td>\n",
       "      <td>4.0</td>\n",
       "      <td>9.0</td>\n",
       "    </tr>\n",
       "    <tr>\n",
       "      <th>2</th>\n",
       "      <td>9.0</td>\n",
       "      <td>3.0</td>\n",
       "      <td>1.0</td>\n",
       "      <td>2.0</td>\n",
       "    </tr>\n",
       "    <tr>\n",
       "      <th>3</th>\n",
       "      <td>3.0</td>\n",
       "      <td>4.0</td>\n",
       "      <td>4.0</td>\n",
       "      <td>4.0</td>\n",
       "    </tr>\n",
       "    <tr>\n",
       "      <th>4</th>\n",
       "      <td>7.0</td>\n",
       "      <td>9.0</td>\n",
       "      <td>7.0</td>\n",
       "      <td>6.0</td>\n",
       "    </tr>\n",
       "    <tr>\n",
       "      <th>5</th>\n",
       "      <td>9.0</td>\n",
       "      <td>6.0</td>\n",
       "      <td>6.0</td>\n",
       "      <td>8.0</td>\n",
       "    </tr>\n",
       "    <tr>\n",
       "      <th>6</th>\n",
       "      <td>0.0</td>\n",
       "      <td>0.0</td>\n",
       "      <td>0.0</td>\n",
       "      <td>0.0</td>\n",
       "    </tr>\n",
       "  </tbody>\n",
       "</table>\n",
       "</div>"
      ],
      "text/plain": [
       "   taux_de_ventes  croissance_vente  ratio_benefice  ratio_perte\n",
       "0             9.0               2.0             5.0          6.0\n",
       "1             7.0               8.0             4.0          9.0\n",
       "2             9.0               3.0             1.0          2.0\n",
       "3             3.0               4.0             4.0          4.0\n",
       "4             7.0               9.0             7.0          6.0\n",
       "5             9.0               6.0             6.0          8.0\n",
       "6             0.0               0.0             0.0          0.0"
      ]
     },
     "execution_count": 10,
     "metadata": {},
     "output_type": "execute_result"
    }
   ],
   "source": [
    "df2 = df1.fillna(0)\n",
    "df2"
   ]
  },
  {
   "cell_type": "code",
   "execution_count": 11,
   "metadata": {},
   "outputs": [
    {
     "data": {
      "text/html": [
       "<div>\n",
       "<style scoped>\n",
       "    .dataframe tbody tr th:only-of-type {\n",
       "        vertical-align: middle;\n",
       "    }\n",
       "\n",
       "    .dataframe tbody tr th {\n",
       "        vertical-align: top;\n",
       "    }\n",
       "\n",
       "    .dataframe thead th {\n",
       "        text-align: right;\n",
       "    }\n",
       "</style>\n",
       "<table border=\"1\" class=\"dataframe\">\n",
       "  <thead>\n",
       "    <tr style=\"text-align: right;\">\n",
       "      <th></th>\n",
       "      <th>taux_de_ventes</th>\n",
       "      <th>croissance_vente</th>\n",
       "      <th>ratio_benefice</th>\n",
       "      <th>ratio_perte</th>\n",
       "    </tr>\n",
       "  </thead>\n",
       "  <tbody>\n",
       "    <tr>\n",
       "      <th>0</th>\n",
       "      <td>9.0</td>\n",
       "      <td>2.0</td>\n",
       "      <td>5.0</td>\n",
       "      <td>6.0</td>\n",
       "    </tr>\n",
       "    <tr>\n",
       "      <th>1</th>\n",
       "      <td>7.0</td>\n",
       "      <td>8.0</td>\n",
       "      <td>4.0</td>\n",
       "      <td>9.0</td>\n",
       "    </tr>\n",
       "    <tr>\n",
       "      <th>2</th>\n",
       "      <td>9.0</td>\n",
       "      <td>3.0</td>\n",
       "      <td>1.0</td>\n",
       "      <td>2.0</td>\n",
       "    </tr>\n",
       "    <tr>\n",
       "      <th>3</th>\n",
       "      <td>3.0</td>\n",
       "      <td>4.0</td>\n",
       "      <td>4.0</td>\n",
       "      <td>4.0</td>\n",
       "    </tr>\n",
       "    <tr>\n",
       "      <th>4</th>\n",
       "      <td>7.0</td>\n",
       "      <td>9.0</td>\n",
       "      <td>7.0</td>\n",
       "      <td>6.0</td>\n",
       "    </tr>\n",
       "    <tr>\n",
       "      <th>5</th>\n",
       "      <td>9.0</td>\n",
       "      <td>6.0</td>\n",
       "      <td>6.0</td>\n",
       "      <td>8.0</td>\n",
       "    </tr>\n",
       "  </tbody>\n",
       "</table>\n",
       "</div>"
      ],
      "text/plain": [
       "   taux_de_ventes  croissance_vente  ratio_benefice  ratio_perte\n",
       "0             9.0               2.0             5.0          6.0\n",
       "1             7.0               8.0             4.0          9.0\n",
       "2             9.0               3.0             1.0          2.0\n",
       "3             3.0               4.0             4.0          4.0\n",
       "4             7.0               9.0             7.0          6.0\n",
       "5             9.0               6.0             6.0          8.0"
      ]
     },
     "execution_count": 11,
     "metadata": {},
     "output_type": "execute_result"
    }
   ],
   "source": [
    "df1.dropna()"
   ]
  },
  {
   "cell_type": "markdown",
   "metadata": {
    "id": "mF8QISnLg3Sa"
   },
   "source": [
    "## 3 - Traitement des données\n",
    "#### Importation de la librairie et visualisation du dataframe"
   ]
  },
  {
   "cell_type": "code",
   "execution_count": 12,
   "metadata": {
    "id": "2hWwVAlug7Qe"
   },
   "outputs": [
    {
     "data": {
      "text/html": [
       "<div>\n",
       "<style scoped>\n",
       "    .dataframe tbody tr th:only-of-type {\n",
       "        vertical-align: middle;\n",
       "    }\n",
       "\n",
       "    .dataframe tbody tr th {\n",
       "        vertical-align: top;\n",
       "    }\n",
       "\n",
       "    .dataframe thead th {\n",
       "        text-align: right;\n",
       "    }\n",
       "</style>\n",
       "<table border=\"1\" class=\"dataframe\">\n",
       "  <thead>\n",
       "    <tr style=\"text-align: right;\">\n",
       "      <th></th>\n",
       "      <th>ID_NOM</th>\n",
       "      <th>Niv_Etude_Bac</th>\n",
       "      <th>age</th>\n",
       "      <th>contrat_de_travail</th>\n",
       "      <th>Salaire</th>\n",
       "      <th>dette_anterieure</th>\n",
       "      <th>etat_civile</th>\n",
       "      <th>apport</th>\n",
       "      <th>enfant_a_Charge</th>\n",
       "      <th>Solvable</th>\n",
       "    </tr>\n",
       "  </thead>\n",
       "  <tbody>\n",
       "    <tr>\n",
       "      <th>0</th>\n",
       "      <td>jean</td>\n",
       "      <td>3.0</td>\n",
       "      <td>45</td>\n",
       "      <td>CDI</td>\n",
       "      <td>40000</td>\n",
       "      <td>4000</td>\n",
       "      <td>M</td>\n",
       "      <td>0.3</td>\n",
       "      <td>3.0</td>\n",
       "      <td>OUI</td>\n",
       "    </tr>\n",
       "    <tr>\n",
       "      <th>1</th>\n",
       "      <td>VANESSA</td>\n",
       "      <td>5.0</td>\n",
       "      <td>28</td>\n",
       "      <td>CDI</td>\n",
       "      <td>30500</td>\n",
       "      <td>1320</td>\n",
       "      <td>M</td>\n",
       "      <td>0.1</td>\n",
       "      <td>0.0</td>\n",
       "      <td>OUI</td>\n",
       "    </tr>\n",
       "    <tr>\n",
       "      <th>2</th>\n",
       "      <td>TARCISSE</td>\n",
       "      <td>0.0</td>\n",
       "      <td>55</td>\n",
       "      <td>CDI</td>\n",
       "      <td>28000</td>\n",
       "      <td>40000</td>\n",
       "      <td>C</td>\n",
       "      <td>0.0</td>\n",
       "      <td>0.0</td>\n",
       "      <td>NON</td>\n",
       "    </tr>\n",
       "    <tr>\n",
       "      <th>3</th>\n",
       "      <td>TIBAULT</td>\n",
       "      <td>4.0</td>\n",
       "      <td>23</td>\n",
       "      <td>CDD</td>\n",
       "      <td>15000</td>\n",
       "      <td>0</td>\n",
       "      <td>M</td>\n",
       "      <td>0.1</td>\n",
       "      <td>NaN</td>\n",
       "      <td>OUI</td>\n",
       "    </tr>\n",
       "    <tr>\n",
       "      <th>4</th>\n",
       "      <td>GILES</td>\n",
       "      <td>0.0</td>\n",
       "      <td>33</td>\n",
       "      <td>CDD</td>\n",
       "      <td>27000</td>\n",
       "      <td>3000</td>\n",
       "      <td>C</td>\n",
       "      <td>0.1</td>\n",
       "      <td>2.0</td>\n",
       "      <td>NON</td>\n",
       "    </tr>\n",
       "  </tbody>\n",
       "</table>\n",
       "</div>"
      ],
      "text/plain": [
       "     ID_NOM  Niv_Etude_Bac  age contrat_de_travail  Salaire  dette_anterieure  \\\n",
       "0      jean            3.0   45                CDI    40000              4000   \n",
       "1   VANESSA            5.0   28                CDI    30500              1320   \n",
       "2  TARCISSE            0.0   55                CDI    28000             40000   \n",
       "3   TIBAULT            4.0   23                CDD    15000                 0   \n",
       "4     GILES            0.0   33                CDD    27000              3000   \n",
       "\n",
       "  etat_civile  apport  enfant_a_Charge Solvable  \n",
       "0           M     0.3              3.0      OUI  \n",
       "1           M     0.1              0.0      OUI  \n",
       "2           C     0.0              0.0      NON  \n",
       "3           M     0.1              NaN      OUI  \n",
       "4           C     0.1              2.0      NON  "
      ]
     },
     "execution_count": 12,
     "metadata": {},
     "output_type": "execute_result"
    }
   ],
   "source": [
    "from sklearn.impute import SimpleImputer\n",
    "df_credit_immo1.head()"
   ]
  },
  {
   "cell_type": "code",
   "execution_count": 13,
   "metadata": {},
   "outputs": [
    {
     "name": "stdout",
     "output_type": "stream",
     "text": [
      "<class 'pandas.core.frame.DataFrame'>\n",
      "RangeIndex: 19 entries, 0 to 18\n",
      "Data columns (total 10 columns):\n",
      " #   Column              Non-Null Count  Dtype  \n",
      "---  ------              --------------  -----  \n",
      " 0   ID_NOM              19 non-null     object \n",
      " 1   Niv_Etude_Bac       18 non-null     float64\n",
      " 2   age                 19 non-null     int64  \n",
      " 3   contrat_de_travail  19 non-null     object \n",
      " 4   Salaire             19 non-null     int64  \n",
      " 5   dette_anterieure    19 non-null     int64  \n",
      " 6   etat_civile         19 non-null     object \n",
      " 7   apport              19 non-null     float64\n",
      " 8   enfant_a_Charge     18 non-null     float64\n",
      " 9   Solvable            19 non-null     object \n",
      "dtypes: float64(3), int64(3), object(4)\n",
      "memory usage: 1.6+ KB\n"
     ]
    }
   ],
   "source": [
    "df_credit_immo1.info()"
   ]
  },
  {
   "cell_type": "code",
   "execution_count": 14,
   "metadata": {},
   "outputs": [
    {
     "data": {
      "text/plain": [
       "ID_NOM                0\n",
       "Niv_Etude_Bac         1\n",
       "age                   0\n",
       "contrat_de_travail    0\n",
       "Salaire               0\n",
       "dette_anterieure      0\n",
       "etat_civile           0\n",
       "apport                0\n",
       "enfant_a_Charge       1\n",
       "Solvable              0\n",
       "dtype: int64"
      ]
     },
     "execution_count": 14,
     "metadata": {},
     "output_type": "execute_result"
    }
   ],
   "source": [
    "# Calcul du nombre de valeurs manquantes par colonne\n",
    "df_credit_immo1.isna().sum()"
   ]
  },
  {
   "cell_type": "markdown",
   "metadata": {},
   "source": [
    "#### Transformer les valeurs manquantes en moyenne (SimpleImputer)"
   ]
  },
  {
   "cell_type": "code",
   "execution_count": 15,
   "metadata": {},
   "outputs": [
    {
     "data": {
      "text/plain": [
       "Index(['Niv_Etude_Bac', 'age', 'Salaire', 'dette_anterieure', 'apport',\n",
       "       'enfant_a_Charge'],\n",
       "      dtype='object')"
      ]
     },
     "execution_count": 15,
     "metadata": {},
     "output_type": "execute_result"
    }
   ],
   "source": [
    "#Récupération des colonnes aux variables quantitatives\n",
    "col_num = df_credit_immo1.select_dtypes(exclude=['object']).columns\n",
    "col_num"
   ]
  },
  {
   "cell_type": "code",
   "execution_count": 16,
   "metadata": {},
   "outputs": [],
   "source": [
    "imp = SimpleImputer(missing_values=np.nan, strategy='mean')\n",
    "imp = imp.fit(df_credit_immo1[col_num])\n",
    "df_credit_immo1[col_num] = imp.transform(df_credit_immo1[col_num])"
   ]
  },
  {
   "cell_type": "code",
   "execution_count": 17,
   "metadata": {},
   "outputs": [
    {
     "data": {
      "text/html": [
       "<div>\n",
       "<style scoped>\n",
       "    .dataframe tbody tr th:only-of-type {\n",
       "        vertical-align: middle;\n",
       "    }\n",
       "\n",
       "    .dataframe tbody tr th {\n",
       "        vertical-align: top;\n",
       "    }\n",
       "\n",
       "    .dataframe thead th {\n",
       "        text-align: right;\n",
       "    }\n",
       "</style>\n",
       "<table border=\"1\" class=\"dataframe\">\n",
       "  <thead>\n",
       "    <tr style=\"text-align: right;\">\n",
       "      <th></th>\n",
       "      <th>ID_NOM</th>\n",
       "      <th>Niv_Etude_Bac</th>\n",
       "      <th>age</th>\n",
       "      <th>contrat_de_travail</th>\n",
       "      <th>Salaire</th>\n",
       "      <th>dette_anterieure</th>\n",
       "      <th>etat_civile</th>\n",
       "      <th>apport</th>\n",
       "      <th>enfant_a_Charge</th>\n",
       "      <th>Solvable</th>\n",
       "    </tr>\n",
       "  </thead>\n",
       "  <tbody>\n",
       "    <tr>\n",
       "      <th>0</th>\n",
       "      <td>jean</td>\n",
       "      <td>3.000000</td>\n",
       "      <td>45.0</td>\n",
       "      <td>CDI</td>\n",
       "      <td>40000.0</td>\n",
       "      <td>4000.0</td>\n",
       "      <td>M</td>\n",
       "      <td>0.3</td>\n",
       "      <td>3.000000</td>\n",
       "      <td>OUI</td>\n",
       "    </tr>\n",
       "    <tr>\n",
       "      <th>1</th>\n",
       "      <td>VANESSA</td>\n",
       "      <td>5.000000</td>\n",
       "      <td>28.0</td>\n",
       "      <td>CDI</td>\n",
       "      <td>30500.0</td>\n",
       "      <td>1320.0</td>\n",
       "      <td>M</td>\n",
       "      <td>0.1</td>\n",
       "      <td>0.000000</td>\n",
       "      <td>OUI</td>\n",
       "    </tr>\n",
       "    <tr>\n",
       "      <th>2</th>\n",
       "      <td>TARCISSE</td>\n",
       "      <td>0.000000</td>\n",
       "      <td>55.0</td>\n",
       "      <td>CDI</td>\n",
       "      <td>28000.0</td>\n",
       "      <td>40000.0</td>\n",
       "      <td>C</td>\n",
       "      <td>0.0</td>\n",
       "      <td>0.000000</td>\n",
       "      <td>NON</td>\n",
       "    </tr>\n",
       "    <tr>\n",
       "      <th>3</th>\n",
       "      <td>TIBAULT</td>\n",
       "      <td>4.000000</td>\n",
       "      <td>23.0</td>\n",
       "      <td>CDD</td>\n",
       "      <td>15000.0</td>\n",
       "      <td>0.0</td>\n",
       "      <td>M</td>\n",
       "      <td>0.1</td>\n",
       "      <td>1.333333</td>\n",
       "      <td>OUI</td>\n",
       "    </tr>\n",
       "    <tr>\n",
       "      <th>4</th>\n",
       "      <td>GILES</td>\n",
       "      <td>0.000000</td>\n",
       "      <td>33.0</td>\n",
       "      <td>CDD</td>\n",
       "      <td>27000.0</td>\n",
       "      <td>3000.0</td>\n",
       "      <td>C</td>\n",
       "      <td>0.1</td>\n",
       "      <td>2.000000</td>\n",
       "      <td>NON</td>\n",
       "    </tr>\n",
       "    <tr>\n",
       "      <th>5</th>\n",
       "      <td>ETHAN</td>\n",
       "      <td>0.000000</td>\n",
       "      <td>41.0</td>\n",
       "      <td>INTERIM</td>\n",
       "      <td>40000.0</td>\n",
       "      <td>1000.0</td>\n",
       "      <td>M</td>\n",
       "      <td>0.0</td>\n",
       "      <td>4.000000</td>\n",
       "      <td>NON</td>\n",
       "    </tr>\n",
       "    <tr>\n",
       "      <th>6</th>\n",
       "      <td>LILIANE</td>\n",
       "      <td>-1.000000</td>\n",
       "      <td>29.0</td>\n",
       "      <td>CDI</td>\n",
       "      <td>50000.0</td>\n",
       "      <td>3000.0</td>\n",
       "      <td>C</td>\n",
       "      <td>0.0</td>\n",
       "      <td>0.000000</td>\n",
       "      <td>NON</td>\n",
       "    </tr>\n",
       "    <tr>\n",
       "      <th>7</th>\n",
       "      <td>GLODI</td>\n",
       "      <td>-3.000000</td>\n",
       "      <td>24.0</td>\n",
       "      <td>INTERIM</td>\n",
       "      <td>29000.0</td>\n",
       "      <td>5000.0</td>\n",
       "      <td>C</td>\n",
       "      <td>0.0</td>\n",
       "      <td>0.000000</td>\n",
       "      <td>NON</td>\n",
       "    </tr>\n",
       "    <tr>\n",
       "      <th>8</th>\n",
       "      <td>FLORIANE</td>\n",
       "      <td>1.444444</td>\n",
       "      <td>26.0</td>\n",
       "      <td>CDI</td>\n",
       "      <td>44000.0</td>\n",
       "      <td>0.0</td>\n",
       "      <td>M</td>\n",
       "      <td>0.1</td>\n",
       "      <td>1.000000</td>\n",
       "      <td>OUI</td>\n",
       "    </tr>\n",
       "    <tr>\n",
       "      <th>9</th>\n",
       "      <td>MARIE</td>\n",
       "      <td>3.000000</td>\n",
       "      <td>37.0</td>\n",
       "      <td>CDI</td>\n",
       "      <td>45800.0</td>\n",
       "      <td>2000.0</td>\n",
       "      <td>M</td>\n",
       "      <td>0.2</td>\n",
       "      <td>2.000000</td>\n",
       "      <td>OUI</td>\n",
       "    </tr>\n",
       "    <tr>\n",
       "      <th>10</th>\n",
       "      <td>BAKAMBU</td>\n",
       "      <td>2.000000</td>\n",
       "      <td>40.0</td>\n",
       "      <td>CDI</td>\n",
       "      <td>60000.0</td>\n",
       "      <td>1500.0</td>\n",
       "      <td>M</td>\n",
       "      <td>0.3</td>\n",
       "      <td>3.000000</td>\n",
       "      <td>OUI</td>\n",
       "    </tr>\n",
       "    <tr>\n",
       "      <th>11</th>\n",
       "      <td>FATOU</td>\n",
       "      <td>0.000000</td>\n",
       "      <td>38.0</td>\n",
       "      <td>CDD</td>\n",
       "      <td>26000.0</td>\n",
       "      <td>8000.0</td>\n",
       "      <td>C</td>\n",
       "      <td>0.4</td>\n",
       "      <td>0.000000</td>\n",
       "      <td>NON</td>\n",
       "    </tr>\n",
       "    <tr>\n",
       "      <th>12</th>\n",
       "      <td>WUAN</td>\n",
       "      <td>-3.000000</td>\n",
       "      <td>39.0</td>\n",
       "      <td>INTERIM</td>\n",
       "      <td>29000.0</td>\n",
       "      <td>4900.0</td>\n",
       "      <td>M</td>\n",
       "      <td>0.0</td>\n",
       "      <td>1.000000</td>\n",
       "      <td>NON</td>\n",
       "    </tr>\n",
       "    <tr>\n",
       "      <th>13</th>\n",
       "      <td>HUGO</td>\n",
       "      <td>0.000000</td>\n",
       "      <td>31.0</td>\n",
       "      <td>CDI</td>\n",
       "      <td>43000.0</td>\n",
       "      <td>100000.0</td>\n",
       "      <td>M</td>\n",
       "      <td>0.2</td>\n",
       "      <td>2.000000</td>\n",
       "      <td>NON</td>\n",
       "    </tr>\n",
       "    <tr>\n",
       "      <th>14</th>\n",
       "      <td>JOSEPH</td>\n",
       "      <td>1.000000</td>\n",
       "      <td>70.0</td>\n",
       "      <td>CDD</td>\n",
       "      <td>45000.0</td>\n",
       "      <td>17000.0</td>\n",
       "      <td>C</td>\n",
       "      <td>0.3</td>\n",
       "      <td>0.000000</td>\n",
       "      <td>NON</td>\n",
       "    </tr>\n",
       "    <tr>\n",
       "      <th>15</th>\n",
       "      <td>DIANE</td>\n",
       "      <td>0.000000</td>\n",
       "      <td>42.0</td>\n",
       "      <td>ENTRPRENEUR</td>\n",
       "      <td>70000.0</td>\n",
       "      <td>26000.0</td>\n",
       "      <td>M</td>\n",
       "      <td>0.2</td>\n",
       "      <td>0.000000</td>\n",
       "      <td>NON</td>\n",
       "    </tr>\n",
       "    <tr>\n",
       "      <th>16</th>\n",
       "      <td>FENG</td>\n",
       "      <td>8.000000</td>\n",
       "      <td>46.0</td>\n",
       "      <td>CDI</td>\n",
       "      <td>80000.0</td>\n",
       "      <td>8000.0</td>\n",
       "      <td>M</td>\n",
       "      <td>0.0</td>\n",
       "      <td>3.000000</td>\n",
       "      <td>OUI</td>\n",
       "    </tr>\n",
       "    <tr>\n",
       "      <th>17</th>\n",
       "      <td>FRICHET</td>\n",
       "      <td>3.000000</td>\n",
       "      <td>23.0</td>\n",
       "      <td>CDI</td>\n",
       "      <td>100000.0</td>\n",
       "      <td>0.0</td>\n",
       "      <td>M</td>\n",
       "      <td>0.3</td>\n",
       "      <td>1.000000</td>\n",
       "      <td>OUI</td>\n",
       "    </tr>\n",
       "    <tr>\n",
       "      <th>18</th>\n",
       "      <td>HOLLANDE</td>\n",
       "      <td>4.000000</td>\n",
       "      <td>32.0</td>\n",
       "      <td>CDI</td>\n",
       "      <td>21000.0</td>\n",
       "      <td>1200.0</td>\n",
       "      <td>M</td>\n",
       "      <td>0.1</td>\n",
       "      <td>2.000000</td>\n",
       "      <td>OUI</td>\n",
       "    </tr>\n",
       "  </tbody>\n",
       "</table>\n",
       "</div>"
      ],
      "text/plain": [
       "      ID_NOM  Niv_Etude_Bac   age contrat_de_travail   Salaire  \\\n",
       "0       jean       3.000000  45.0                CDI   40000.0   \n",
       "1    VANESSA       5.000000  28.0                CDI   30500.0   \n",
       "2   TARCISSE       0.000000  55.0                CDI   28000.0   \n",
       "3    TIBAULT       4.000000  23.0                CDD   15000.0   \n",
       "4      GILES       0.000000  33.0                CDD   27000.0   \n",
       "5      ETHAN       0.000000  41.0            INTERIM   40000.0   \n",
       "6    LILIANE      -1.000000  29.0                CDI   50000.0   \n",
       "7      GLODI      -3.000000  24.0            INTERIM   29000.0   \n",
       "8   FLORIANE       1.444444  26.0                CDI   44000.0   \n",
       "9      MARIE       3.000000  37.0                CDI   45800.0   \n",
       "10   BAKAMBU       2.000000  40.0                CDI   60000.0   \n",
       "11     FATOU       0.000000  38.0                CDD   26000.0   \n",
       "12      WUAN      -3.000000  39.0            INTERIM   29000.0   \n",
       "13      HUGO       0.000000  31.0                CDI   43000.0   \n",
       "14    JOSEPH       1.000000  70.0                CDD   45000.0   \n",
       "15     DIANE       0.000000  42.0        ENTRPRENEUR   70000.0   \n",
       "16      FENG       8.000000  46.0                CDI   80000.0   \n",
       "17   FRICHET       3.000000  23.0                CDI  100000.0   \n",
       "18  HOLLANDE       4.000000  32.0                CDI   21000.0   \n",
       "\n",
       "    dette_anterieure etat_civile  apport  enfant_a_Charge Solvable  \n",
       "0             4000.0           M     0.3         3.000000      OUI  \n",
       "1             1320.0           M     0.1         0.000000      OUI  \n",
       "2            40000.0           C     0.0         0.000000      NON  \n",
       "3                0.0           M     0.1         1.333333      OUI  \n",
       "4             3000.0           C     0.1         2.000000      NON  \n",
       "5             1000.0           M     0.0         4.000000      NON  \n",
       "6             3000.0           C     0.0         0.000000      NON  \n",
       "7             5000.0           C     0.0         0.000000      NON  \n",
       "8                0.0           M     0.1         1.000000      OUI  \n",
       "9             2000.0           M     0.2         2.000000      OUI  \n",
       "10            1500.0           M     0.3         3.000000      OUI  \n",
       "11            8000.0           C     0.4         0.000000      NON  \n",
       "12            4900.0           M     0.0         1.000000      NON  \n",
       "13          100000.0           M     0.2         2.000000      NON  \n",
       "14           17000.0           C     0.3         0.000000      NON  \n",
       "15           26000.0           M     0.2         0.000000      NON  \n",
       "16            8000.0           M     0.0         3.000000      OUI  \n",
       "17               0.0           M     0.3         1.000000      OUI  \n",
       "18            1200.0           M     0.1         2.000000      OUI  "
      ]
     },
     "execution_count": 17,
     "metadata": {},
     "output_type": "execute_result"
    }
   ],
   "source": [
    "df_credit_immo1"
   ]
  },
  {
   "cell_type": "code",
   "execution_count": 18,
   "metadata": {},
   "outputs": [
    {
     "data": {
      "text/plain": [
       "ID_NOM                0\n",
       "Niv_Etude_Bac         0\n",
       "age                   0\n",
       "contrat_de_travail    0\n",
       "Salaire               0\n",
       "dette_anterieure      0\n",
       "etat_civile           0\n",
       "apport                0\n",
       "enfant_a_Charge       0\n",
       "Solvable              0\n",
       "dtype: int64"
      ]
     },
     "execution_count": 18,
     "metadata": {},
     "output_type": "execute_result"
    }
   ],
   "source": [
    "df_credit_immo1.isna().sum()"
   ]
  },
  {
   "cell_type": "code",
   "execution_count": 19,
   "metadata": {},
   "outputs": [],
   "source": [
    "# EXEMPLE SUR UNE COLONNE - Transformer les valeurs manquantes en moyenne (SimpleImputer).\n",
    "#imp = SimpleImputer(missing_values=np.nan, strategy='mean')\n",
    "#imp = imp.fit(df_credit_immo1[['enfant_a_Charge']])\n",
    "#df_credit_immo1['enfant_a_Charge'] = imp.transform(df_credit_immo1[['enfant_a_Charge']]).ravel()\n",
    "#df_credit_immo1.head()"
   ]
  },
  {
   "cell_type": "markdown",
   "metadata": {},
   "source": [
    "#### Encoder les valeurs catégoriques (LabelEncoder)."
   ]
  },
  {
   "cell_type": "code",
   "execution_count": 20,
   "metadata": {},
   "outputs": [],
   "source": [
    "from sklearn import preprocessing"
   ]
  },
  {
   "cell_type": "code",
   "execution_count": 21,
   "metadata": {},
   "outputs": [
    {
     "data": {
      "text/html": [
       "<div>\n",
       "<style scoped>\n",
       "    .dataframe tbody tr th:only-of-type {\n",
       "        vertical-align: middle;\n",
       "    }\n",
       "\n",
       "    .dataframe tbody tr th {\n",
       "        vertical-align: top;\n",
       "    }\n",
       "\n",
       "    .dataframe thead th {\n",
       "        text-align: right;\n",
       "    }\n",
       "</style>\n",
       "<table border=\"1\" class=\"dataframe\">\n",
       "  <thead>\n",
       "    <tr style=\"text-align: right;\">\n",
       "      <th></th>\n",
       "      <th>contrat_de_travail</th>\n",
       "      <th>etat_civile</th>\n",
       "      <th>Solvable</th>\n",
       "    </tr>\n",
       "  </thead>\n",
       "  <tbody>\n",
       "    <tr>\n",
       "      <th>0</th>\n",
       "      <td>CDI</td>\n",
       "      <td>M</td>\n",
       "      <td>OUI</td>\n",
       "    </tr>\n",
       "    <tr>\n",
       "      <th>1</th>\n",
       "      <td>CDI</td>\n",
       "      <td>M</td>\n",
       "      <td>OUI</td>\n",
       "    </tr>\n",
       "    <tr>\n",
       "      <th>2</th>\n",
       "      <td>CDI</td>\n",
       "      <td>C</td>\n",
       "      <td>NON</td>\n",
       "    </tr>\n",
       "    <tr>\n",
       "      <th>3</th>\n",
       "      <td>CDD</td>\n",
       "      <td>M</td>\n",
       "      <td>OUI</td>\n",
       "    </tr>\n",
       "    <tr>\n",
       "      <th>4</th>\n",
       "      <td>CDD</td>\n",
       "      <td>C</td>\n",
       "      <td>NON</td>\n",
       "    </tr>\n",
       "    <tr>\n",
       "      <th>5</th>\n",
       "      <td>INTERIM</td>\n",
       "      <td>M</td>\n",
       "      <td>NON</td>\n",
       "    </tr>\n",
       "    <tr>\n",
       "      <th>6</th>\n",
       "      <td>CDI</td>\n",
       "      <td>C</td>\n",
       "      <td>NON</td>\n",
       "    </tr>\n",
       "    <tr>\n",
       "      <th>7</th>\n",
       "      <td>INTERIM</td>\n",
       "      <td>C</td>\n",
       "      <td>NON</td>\n",
       "    </tr>\n",
       "    <tr>\n",
       "      <th>8</th>\n",
       "      <td>CDI</td>\n",
       "      <td>M</td>\n",
       "      <td>OUI</td>\n",
       "    </tr>\n",
       "    <tr>\n",
       "      <th>9</th>\n",
       "      <td>CDI</td>\n",
       "      <td>M</td>\n",
       "      <td>OUI</td>\n",
       "    </tr>\n",
       "    <tr>\n",
       "      <th>10</th>\n",
       "      <td>CDI</td>\n",
       "      <td>M</td>\n",
       "      <td>OUI</td>\n",
       "    </tr>\n",
       "    <tr>\n",
       "      <th>11</th>\n",
       "      <td>CDD</td>\n",
       "      <td>C</td>\n",
       "      <td>NON</td>\n",
       "    </tr>\n",
       "    <tr>\n",
       "      <th>12</th>\n",
       "      <td>INTERIM</td>\n",
       "      <td>M</td>\n",
       "      <td>NON</td>\n",
       "    </tr>\n",
       "    <tr>\n",
       "      <th>13</th>\n",
       "      <td>CDI</td>\n",
       "      <td>M</td>\n",
       "      <td>NON</td>\n",
       "    </tr>\n",
       "    <tr>\n",
       "      <th>14</th>\n",
       "      <td>CDD</td>\n",
       "      <td>C</td>\n",
       "      <td>NON</td>\n",
       "    </tr>\n",
       "    <tr>\n",
       "      <th>15</th>\n",
       "      <td>ENTRPRENEUR</td>\n",
       "      <td>M</td>\n",
       "      <td>NON</td>\n",
       "    </tr>\n",
       "    <tr>\n",
       "      <th>16</th>\n",
       "      <td>CDI</td>\n",
       "      <td>M</td>\n",
       "      <td>OUI</td>\n",
       "    </tr>\n",
       "    <tr>\n",
       "      <th>17</th>\n",
       "      <td>CDI</td>\n",
       "      <td>M</td>\n",
       "      <td>OUI</td>\n",
       "    </tr>\n",
       "    <tr>\n",
       "      <th>18</th>\n",
       "      <td>CDI</td>\n",
       "      <td>M</td>\n",
       "      <td>OUI</td>\n",
       "    </tr>\n",
       "  </tbody>\n",
       "</table>\n",
       "</div>"
      ],
      "text/plain": [
       "   contrat_de_travail etat_civile Solvable\n",
       "0                 CDI           M      OUI\n",
       "1                 CDI           M      OUI\n",
       "2                 CDI           C      NON\n",
       "3                 CDD           M      OUI\n",
       "4                 CDD           C      NON\n",
       "5             INTERIM           M      NON\n",
       "6                 CDI           C      NON\n",
       "7             INTERIM           C      NON\n",
       "8                 CDI           M      OUI\n",
       "9                 CDI           M      OUI\n",
       "10                CDI           M      OUI\n",
       "11                CDD           C      NON\n",
       "12            INTERIM           M      NON\n",
       "13                CDI           M      NON\n",
       "14                CDD           C      NON\n",
       "15        ENTRPRENEUR           M      NON\n",
       "16                CDI           M      OUI\n",
       "17                CDI           M      OUI\n",
       "18                CDI           M      OUI"
      ]
     },
     "execution_count": 21,
     "metadata": {},
     "output_type": "execute_result"
    }
   ],
   "source": [
    "col_object = df_credit_immo1.select_dtypes(include=['object'])\n",
    "col_object = col_object.iloc[:,1:]\n",
    "col_object"
   ]
  },
  {
   "cell_type": "code",
   "execution_count": 22,
   "metadata": {},
   "outputs": [
    {
     "data": {
      "text/html": [
       "<div>\n",
       "<style scoped>\n",
       "    .dataframe tbody tr th:only-of-type {\n",
       "        vertical-align: middle;\n",
       "    }\n",
       "\n",
       "    .dataframe tbody tr th {\n",
       "        vertical-align: top;\n",
       "    }\n",
       "\n",
       "    .dataframe thead th {\n",
       "        text-align: right;\n",
       "    }\n",
       "</style>\n",
       "<table border=\"1\" class=\"dataframe\">\n",
       "  <thead>\n",
       "    <tr style=\"text-align: right;\">\n",
       "      <th></th>\n",
       "      <th>ID_NOM</th>\n",
       "      <th>Niv_Etude_Bac</th>\n",
       "      <th>age</th>\n",
       "      <th>contrat_de_travail</th>\n",
       "      <th>Salaire</th>\n",
       "      <th>dette_anterieure</th>\n",
       "      <th>etat_civile</th>\n",
       "      <th>apport</th>\n",
       "      <th>enfant_a_Charge</th>\n",
       "      <th>Solvable</th>\n",
       "    </tr>\n",
       "  </thead>\n",
       "  <tbody>\n",
       "    <tr>\n",
       "      <th>0</th>\n",
       "      <td>jean</td>\n",
       "      <td>3.0</td>\n",
       "      <td>45.0</td>\n",
       "      <td>CDI</td>\n",
       "      <td>40000.0</td>\n",
       "      <td>4000.0</td>\n",
       "      <td>1</td>\n",
       "      <td>0.3</td>\n",
       "      <td>3.000000</td>\n",
       "      <td>OUI</td>\n",
       "    </tr>\n",
       "    <tr>\n",
       "      <th>1</th>\n",
       "      <td>VANESSA</td>\n",
       "      <td>5.0</td>\n",
       "      <td>28.0</td>\n",
       "      <td>CDI</td>\n",
       "      <td>30500.0</td>\n",
       "      <td>1320.0</td>\n",
       "      <td>1</td>\n",
       "      <td>0.1</td>\n",
       "      <td>0.000000</td>\n",
       "      <td>OUI</td>\n",
       "    </tr>\n",
       "    <tr>\n",
       "      <th>2</th>\n",
       "      <td>TARCISSE</td>\n",
       "      <td>0.0</td>\n",
       "      <td>55.0</td>\n",
       "      <td>CDI</td>\n",
       "      <td>28000.0</td>\n",
       "      <td>40000.0</td>\n",
       "      <td>0</td>\n",
       "      <td>0.0</td>\n",
       "      <td>0.000000</td>\n",
       "      <td>NON</td>\n",
       "    </tr>\n",
       "    <tr>\n",
       "      <th>3</th>\n",
       "      <td>TIBAULT</td>\n",
       "      <td>4.0</td>\n",
       "      <td>23.0</td>\n",
       "      <td>CDD</td>\n",
       "      <td>15000.0</td>\n",
       "      <td>0.0</td>\n",
       "      <td>1</td>\n",
       "      <td>0.1</td>\n",
       "      <td>1.333333</td>\n",
       "      <td>OUI</td>\n",
       "    </tr>\n",
       "    <tr>\n",
       "      <th>4</th>\n",
       "      <td>GILES</td>\n",
       "      <td>0.0</td>\n",
       "      <td>33.0</td>\n",
       "      <td>CDD</td>\n",
       "      <td>27000.0</td>\n",
       "      <td>3000.0</td>\n",
       "      <td>0</td>\n",
       "      <td>0.1</td>\n",
       "      <td>2.000000</td>\n",
       "      <td>NON</td>\n",
       "    </tr>\n",
       "  </tbody>\n",
       "</table>\n",
       "</div>"
      ],
      "text/plain": [
       "     ID_NOM  Niv_Etude_Bac   age contrat_de_travail  Salaire  \\\n",
       "0      jean            3.0  45.0                CDI  40000.0   \n",
       "1   VANESSA            5.0  28.0                CDI  30500.0   \n",
       "2  TARCISSE            0.0  55.0                CDI  28000.0   \n",
       "3   TIBAULT            4.0  23.0                CDD  15000.0   \n",
       "4     GILES            0.0  33.0                CDD  27000.0   \n",
       "\n",
       "   dette_anterieure  etat_civile  apport  enfant_a_Charge Solvable  \n",
       "0            4000.0            1     0.3         3.000000      OUI  \n",
       "1            1320.0            1     0.1         0.000000      OUI  \n",
       "2           40000.0            0     0.0         0.000000      NON  \n",
       "3               0.0            1     0.1         1.333333      OUI  \n",
       "4            3000.0            0     0.1         2.000000      NON  "
      ]
     },
     "execution_count": 22,
     "metadata": {},
     "output_type": "execute_result"
    }
   ],
   "source": [
    "#Colonne : Etat civil\n",
    "le = preprocessing.LabelEncoder()\n",
    "le.fit(df_credit_immo1['etat_civile'])\n",
    "df_credit_immo1['etat_civile'] = le.transform(df_credit_immo1['etat_civile'])\n",
    "df_credit_immo1.head()"
   ]
  },
  {
   "cell_type": "code",
   "execution_count": 23,
   "metadata": {},
   "outputs": [
    {
     "data": {
      "text/plain": [
       "array([1, 1, 1, 0, 0, 3, 1, 3, 1, 1, 1, 0, 3, 1, 0, 2, 1, 1, 1])"
      ]
     },
     "execution_count": 23,
     "metadata": {},
     "output_type": "execute_result"
    }
   ],
   "source": [
    "#Colonne : Contrat de travail\n",
    "le = preprocessing.LabelEncoder()\n",
    "le.fit(col_object['contrat_de_travail'])\n",
    "a = le.classes_\n",
    "le.transform(col_object['contrat_de_travail'])"
   ]
  },
  {
   "cell_type": "code",
   "execution_count": 24,
   "metadata": {},
   "outputs": [
    {
     "data": {
      "text/html": [
       "<div>\n",
       "<style scoped>\n",
       "    .dataframe tbody tr th:only-of-type {\n",
       "        vertical-align: middle;\n",
       "    }\n",
       "\n",
       "    .dataframe tbody tr th {\n",
       "        vertical-align: top;\n",
       "    }\n",
       "\n",
       "    .dataframe thead th {\n",
       "        text-align: right;\n",
       "    }\n",
       "</style>\n",
       "<table border=\"1\" class=\"dataframe\">\n",
       "  <thead>\n",
       "    <tr style=\"text-align: right;\">\n",
       "      <th></th>\n",
       "      <th>ID_NOM</th>\n",
       "      <th>Niv_Etude_Bac</th>\n",
       "      <th>age</th>\n",
       "      <th>contrat_de_travail</th>\n",
       "      <th>Salaire</th>\n",
       "      <th>dette_anterieure</th>\n",
       "      <th>etat_civile</th>\n",
       "      <th>apport</th>\n",
       "      <th>enfant_a_Charge</th>\n",
       "      <th>Solvable</th>\n",
       "    </tr>\n",
       "  </thead>\n",
       "  <tbody>\n",
       "    <tr>\n",
       "      <th>0</th>\n",
       "      <td>jean</td>\n",
       "      <td>3.0</td>\n",
       "      <td>45.0</td>\n",
       "      <td>1</td>\n",
       "      <td>40000.0</td>\n",
       "      <td>4000.0</td>\n",
       "      <td>1</td>\n",
       "      <td>0.3</td>\n",
       "      <td>3.000000</td>\n",
       "      <td>1</td>\n",
       "    </tr>\n",
       "    <tr>\n",
       "      <th>1</th>\n",
       "      <td>VANESSA</td>\n",
       "      <td>5.0</td>\n",
       "      <td>28.0</td>\n",
       "      <td>1</td>\n",
       "      <td>30500.0</td>\n",
       "      <td>1320.0</td>\n",
       "      <td>1</td>\n",
       "      <td>0.1</td>\n",
       "      <td>0.000000</td>\n",
       "      <td>1</td>\n",
       "    </tr>\n",
       "    <tr>\n",
       "      <th>2</th>\n",
       "      <td>TARCISSE</td>\n",
       "      <td>0.0</td>\n",
       "      <td>55.0</td>\n",
       "      <td>1</td>\n",
       "      <td>28000.0</td>\n",
       "      <td>40000.0</td>\n",
       "      <td>0</td>\n",
       "      <td>0.0</td>\n",
       "      <td>0.000000</td>\n",
       "      <td>0</td>\n",
       "    </tr>\n",
       "    <tr>\n",
       "      <th>3</th>\n",
       "      <td>TIBAULT</td>\n",
       "      <td>4.0</td>\n",
       "      <td>23.0</td>\n",
       "      <td>0</td>\n",
       "      <td>15000.0</td>\n",
       "      <td>0.0</td>\n",
       "      <td>1</td>\n",
       "      <td>0.1</td>\n",
       "      <td>1.333333</td>\n",
       "      <td>1</td>\n",
       "    </tr>\n",
       "    <tr>\n",
       "      <th>4</th>\n",
       "      <td>GILES</td>\n",
       "      <td>0.0</td>\n",
       "      <td>33.0</td>\n",
       "      <td>0</td>\n",
       "      <td>27000.0</td>\n",
       "      <td>3000.0</td>\n",
       "      <td>0</td>\n",
       "      <td>0.1</td>\n",
       "      <td>2.000000</td>\n",
       "      <td>0</td>\n",
       "    </tr>\n",
       "  </tbody>\n",
       "</table>\n",
       "</div>"
      ],
      "text/plain": [
       "     ID_NOM  Niv_Etude_Bac   age  contrat_de_travail  Salaire  \\\n",
       "0      jean            3.0  45.0                   1  40000.0   \n",
       "1   VANESSA            5.0  28.0                   1  30500.0   \n",
       "2  TARCISSE            0.0  55.0                   1  28000.0   \n",
       "3   TIBAULT            4.0  23.0                   0  15000.0   \n",
       "4     GILES            0.0  33.0                   0  27000.0   \n",
       "\n",
       "   dette_anterieure  etat_civile  apport  enfant_a_Charge  Solvable  \n",
       "0            4000.0            1     0.3         3.000000         1  \n",
       "1            1320.0            1     0.1         0.000000         1  \n",
       "2           40000.0            0     0.0         0.000000         0  \n",
       "3               0.0            1     0.1         1.333333         1  \n",
       "4            3000.0            0     0.1         2.000000         0  "
      ]
     },
     "execution_count": 24,
     "metadata": {},
     "output_type": "execute_result"
    }
   ],
   "source": [
    "#Boucle for pour encoder sur les 3 colonnes\n",
    "for i in col_object.columns:\n",
    "    le = preprocessing.LabelEncoder()\n",
    "    le.fit(df_credit_immo1[i])\n",
    "    df_credit_immo1[i] = le.transform(df_credit_immo1[i])\n",
    "\n",
    "df_credit_immo1.head()"
   ]
  },
  {
   "cell_type": "markdown",
   "metadata": {},
   "source": [
    "#### Fractionner le jeu de données pour l’entrainement et le test(Training and Test set)\n"
   ]
  },
  {
   "cell_type": "code",
   "execution_count": 25,
   "metadata": {},
   "outputs": [
    {
     "data": {
      "text/plain": [
       "15"
      ]
     },
     "execution_count": 25,
     "metadata": {},
     "output_type": "execute_result"
    }
   ],
   "source": [
    "from sklearn.model_selection import train_test_split\n",
    "\n",
    "X = df_credit_immo1.iloc[:, 1:-1]\n",
    "y = df_credit_immo1['Solvable']\n",
    "\n",
    "X_train, X_test, y_train, y_test = train_test_split(X, y, test_size = 0.2)\n",
    "len(X_train)"
   ]
  },
  {
   "cell_type": "code",
   "execution_count": 26,
   "metadata": {},
   "outputs": [
    {
     "data": {
      "text/plain": [
       "4"
      ]
     },
     "execution_count": 26,
     "metadata": {},
     "output_type": "execute_result"
    }
   ],
   "source": [
    "len(X_test)"
   ]
  },
  {
   "cell_type": "markdown",
   "metadata": {},
   "source": [
    "#### Mise à l’échelle des features (StandardScaler)"
   ]
  },
  {
   "cell_type": "code",
   "execution_count": 27,
   "metadata": {},
   "outputs": [],
   "source": [
    "from sklearn.preprocessing import StandardScaler"
   ]
  },
  {
   "cell_type": "code",
   "execution_count": 28,
   "metadata": {},
   "outputs": [
    {
     "data": {
      "text/plain": [
       "array([[ 0.05643326,  2.72113756, -1.14763808,  0.6807257 ,  0.10167949,\n",
       "        -1.22474487,  1.33630621, -0.91837824],\n",
       "       [-0.36681622, -0.57465017, -0.19127301,  0.53023365,  3.38293828,\n",
       "         0.81649658,  0.53452248,  0.67112256],\n",
       "       [-0.36681622,  1.45352689, -0.19127301, -0.59845671,  1.01094397,\n",
       "        -1.22474487, -1.06904497, -0.91837824],\n",
       "       [-0.36681622,  0.01690148, -1.14763808, -0.74894876, -0.25411966,\n",
       "        -1.22474487,  2.13808994, -0.91837824],\n",
       "       [-0.36681622,  0.35493099,  0.76509206,  2.5618763 ,  0.45747863,\n",
       "         0.81649658,  0.53452248, -0.91837824],\n",
       "       [ 1.32618172, -1.25070919, -1.14763808, -1.57665502, -0.57038556,\n",
       "         0.81649658, -0.26726124,  0.14128896],\n",
       "       [ 1.74943121, -0.8281723 , -0.19127301, -0.41034165, -0.51820169,\n",
       "         0.81649658, -0.26726124, -0.91837824],\n",
       "       [ 0.90293224, -0.0676059 , -0.19127301,  0.74092252, -0.49131909,\n",
       "         0.81649658,  0.53452248,  0.67112256],\n",
       "       [-0.79006571, -0.74366492, -0.19127301,  1.05695582, -0.45178585,\n",
       "        -1.22474487, -1.06904497, -0.91837824],\n",
       "       [-0.36681622, -0.40563541, -1.14763808, -0.67370274, -0.45178585,\n",
       "        -1.22474487, -0.26726124,  0.67112256],\n",
       "       [ 1.32618172, -0.49014279, -0.19127301, -1.12517888, -0.52294568,\n",
       "         0.81649658, -0.26726124,  0.67112256],\n",
       "       [-1.63656468, -1.16620181,  1.72145713, -0.52321069, -0.37271937,\n",
       "        -1.22474487, -1.06904497, -0.91837824],\n",
       "       [-1.63656468,  0.10140885,  1.72145713, -0.52321069, -0.3766727 ,\n",
       "         0.81649658, -1.06904497, -0.12362784],\n",
       "       [ 0.90293224,  0.60845312, -0.19127301,  0.30449558, -0.41225261,\n",
       "         0.81649658,  1.33630621,  1.46587296],\n",
       "       [-0.36681622,  0.27042361,  1.72145713,  0.30449558, -0.53085233,\n",
       "         0.81649658, -1.06904497,  2.26062336]])"
      ]
     },
     "execution_count": 28,
     "metadata": {},
     "output_type": "execute_result"
    }
   ],
   "source": [
    "scaler = StandardScaler()\n",
    "scaler.fit(X_train)\n",
    "scaler.mean_\n",
    "scaler.transform(X_train)"
   ]
  },
  {
   "cell_type": "code",
   "execution_count": 29,
   "metadata": {},
   "outputs": [
    {
     "data": {
      "text/plain": [
       "-1.4802973661668754e-17"
      ]
     },
     "execution_count": 29,
     "metadata": {},
     "output_type": "execute_result"
    }
   ],
   "source": [
    "#Vérification en calculant la moyenne de la troisième colonne\n",
    "X_train = scaler.fit_transform(X_train)\n",
    "X_train[:, 2].mean()"
   ]
  },
  {
   "cell_type": "code",
   "execution_count": 30,
   "metadata": {},
   "outputs": [
    {
     "data": {
      "text/plain": [
       "1.0"
      ]
     },
     "execution_count": 30,
     "metadata": {},
     "output_type": "execute_result"
    }
   ],
   "source": [
    "#Vérification en calculant l'écart-type de la deuxième colonne\n",
    "X_test = scaler.fit_transform(X_test)\n",
    "X_test[:, 1].std()"
   ]
  },
  {
   "cell_type": "markdown",
   "metadata": {
    "id": "TEWthAa9g_bn"
   },
   "source": [
    "## 4 - Visualisation des données"
   ]
  },
  {
   "cell_type": "code",
   "execution_count": 31,
   "metadata": {
    "id": "_bn4L1N5hCwo"
   },
   "outputs": [
    {
     "data": {
      "text/html": [
       "<div>\n",
       "<style scoped>\n",
       "    .dataframe tbody tr th:only-of-type {\n",
       "        vertical-align: middle;\n",
       "    }\n",
       "\n",
       "    .dataframe tbody tr th {\n",
       "        vertical-align: top;\n",
       "    }\n",
       "\n",
       "    .dataframe thead th {\n",
       "        text-align: right;\n",
       "    }\n",
       "</style>\n",
       "<table border=\"1\" class=\"dataframe\">\n",
       "  <thead>\n",
       "    <tr style=\"text-align: right;\">\n",
       "      <th></th>\n",
       "      <th>Montant_du_capitale</th>\n",
       "      <th>Temps</th>\n",
       "    </tr>\n",
       "  </thead>\n",
       "  <tbody>\n",
       "    <tr>\n",
       "      <th>0</th>\n",
       "      <td>1</td>\n",
       "      <td>5</td>\n",
       "    </tr>\n",
       "    <tr>\n",
       "      <th>1</th>\n",
       "      <td>12</td>\n",
       "      <td>6</td>\n",
       "    </tr>\n",
       "    <tr>\n",
       "      <th>2</th>\n",
       "      <td>13</td>\n",
       "      <td>7</td>\n",
       "    </tr>\n",
       "    <tr>\n",
       "      <th>3</th>\n",
       "      <td>2</td>\n",
       "      <td>8</td>\n",
       "    </tr>\n",
       "    <tr>\n",
       "      <th>4</th>\n",
       "      <td>3</td>\n",
       "      <td>9</td>\n",
       "    </tr>\n",
       "  </tbody>\n",
       "</table>\n",
       "</div>"
      ],
      "text/plain": [
       "   Montant_du_capitale  Temps\n",
       "0                    1      5\n",
       "1                   12      6\n",
       "2                   13      7\n",
       "3                    2      8\n",
       "4                    3      9"
      ]
     },
     "execution_count": 31,
     "metadata": {},
     "output_type": "execute_result"
    }
   ],
   "source": [
    "path='./bdd/montant_temps.csv'\n",
    "montant_temps = pd.read_csv(path)\n",
    "montant_temps.head()"
   ]
  },
  {
   "cell_type": "code",
   "execution_count": 32,
   "metadata": {
    "scrolled": false
   },
   "outputs": [
    {
     "data": {
      "image/png": "[encoded data removed]",
      "text/plain": [
       "<Figure size 432x288 with 1 Axes>"
      ]
     },
     "metadata": {
      "needs_background": "light"
     },
     "output_type": "display_data"
    }
   ],
   "source": [
    "x = montant_temps.iloc[:, 1]\n",
    "y = montant_temps.iloc[:, 0]\n",
    "\n",
    "#plot\n",
    "fig, ax = plt.subplots()\n",
    "\n",
    "graph1 = ax.plot(x, y)\n",
    "plt.savefig(\"graph1.png\")\n",
    "plt.show()"
   ]
  },
  {
   "cell_type": "markdown",
   "metadata": {
    "id": "BDRko55fhK3Q"
   },
   "source": [
    "### 4.1 - Style du graphique"
   ]
  },
  {
   "cell_type": "code",
   "execution_count": 33,
   "metadata": {
    "id": "orTfWdc4hcTE"
   },
   "outputs": [
    {
     "data": {
      "image/png": "[encoded data removed]",
      "text/plain": [
       "<Figure size 432x288 with 1 Axes>"
      ]
     },
     "metadata": {
      "needs_background": "light"
     },
     "output_type": "display_data"
    }
   ],
   "source": [
    "fig, ax = plt.subplots()\n",
    "\n",
    "ax.plot(x, y, c = 'crimson' )\n",
    "plt.savefig(\"graph1.png\")\n",
    "ax.set_xlabel('Temps')\n",
    "ax.set_ylabel('Montant du capital')\n",
    "ax.set_title(\"Montant du capital en fonction du temps\")\n",
    "plt.show()"
   ]
  },
  {
   "cell_type": "markdown",
   "metadata": {
    "id": "8Y7zAxjkhlZZ"
   },
   "source": [
    "### 4.2 - Visualisation de données sous forme de nuage de points"
   ]
  },
  {
   "cell_type": "code",
   "execution_count": 34,
   "metadata": {
    "id": "Rf0TesVVhm6h"
   },
   "outputs": [
    {
     "data": {
      "image/png": "[encoded data removed]",
      "text/plain": [
       "<Figure size 432x288 with 1 Axes>"
      ]
     },
     "metadata": {
      "needs_background": "light"
     },
     "output_type": "display_data"
    }
   ],
   "source": [
    "#color\n",
    "colors = np.random.uniform(15, 80, len(x))\n",
    "#plot\n",
    "fig, ax = plt.subplots()\n",
    "\n",
    "ax.scatter(x, y, c = colors, marker= '^')\n",
    "plt.show()"
   ]
  },
  {
   "cell_type": "markdown",
   "metadata": {
    "id": "0jSJdL5nhr2g"
   },
   "source": [
    "## 5 - Analyse de données"
   ]
  },
  {
   "cell_type": "code",
   "execution_count": 35,
   "metadata": {
    "id": "oy8wOK_6hs7l"
   },
   "outputs": [
    {
     "data": {
      "text/html": [
       "<div>\n",
       "<style scoped>\n",
       "    .dataframe tbody tr th:only-of-type {\n",
       "        vertical-align: middle;\n",
       "    }\n",
       "\n",
       "    .dataframe tbody tr th {\n",
       "        vertical-align: top;\n",
       "    }\n",
       "\n",
       "    .dataframe thead th {\n",
       "        text-align: right;\n",
       "    }\n",
       "</style>\n",
       "<table border=\"1\" class=\"dataframe\">\n",
       "  <thead>\n",
       "    <tr style=\"text-align: right;\">\n",
       "      <th></th>\n",
       "      <th>Nom</th>\n",
       "      <th>Age</th>\n",
       "      <th>Rating</th>\n",
       "    </tr>\n",
       "  </thead>\n",
       "  <tbody>\n",
       "    <tr>\n",
       "      <th>0</th>\n",
       "      <td>ANATOLE</td>\n",
       "      <td>55</td>\n",
       "      <td>4.53</td>\n",
       "    </tr>\n",
       "    <tr>\n",
       "      <th>1</th>\n",
       "      <td>Vincent</td>\n",
       "      <td>59</td>\n",
       "      <td>3.54</td>\n",
       "    </tr>\n",
       "    <tr>\n",
       "      <th>2</th>\n",
       "      <td>Brenda</td>\n",
       "      <td>55</td>\n",
       "      <td>3.98</td>\n",
       "    </tr>\n",
       "    <tr>\n",
       "      <th>3</th>\n",
       "      <td>Philippe</td>\n",
       "      <td>53</td>\n",
       "      <td>5.59</td>\n",
       "    </tr>\n",
       "    <tr>\n",
       "      <th>4</th>\n",
       "      <td>Michel</td>\n",
       "      <td>30</td>\n",
       "      <td>3.50</td>\n",
       "    </tr>\n",
       "  </tbody>\n",
       "</table>\n",
       "</div>"
      ],
      "text/plain": [
       "         Nom  Age  Rating\n",
       "0    ANATOLE   55    4.53\n",
       "1   Vincent    59    3.54\n",
       "2    Brenda    55    3.98\n",
       "3  Philippe    53    5.59\n",
       "4    Michel    30    3.50"
      ]
     },
     "execution_count": 35,
     "metadata": {},
     "output_type": "execute_result"
    }
   ],
   "source": [
    "path='./bdd/tendance_centrale.csv'\n",
    "tendance_centrale = pd.read_csv(path)\n",
    "tendance_centrale.head()"
   ]
  },
  {
   "cell_type": "markdown",
   "metadata": {
    "id": "JEySBZlihwCp"
   },
   "source": [
    "### 5.1 - Mesure de tendance centrale"
   ]
  },
  {
   "cell_type": "code",
   "execution_count": 36,
   "metadata": {
    "id": "AB6g4WVChxbP"
   },
   "outputs": [],
   "source": [
    "var_num = tendance_centrale.iloc[:, 1:]"
   ]
  },
  {
   "cell_type": "code",
   "execution_count": 37,
   "metadata": {},
   "outputs": [
    {
     "name": "stdout",
     "output_type": "stream",
     "text": [
      "La moyenne de l'age est de 45.65 ans et la moyenne du rating est de 4.44\n"
     ]
    }
   ],
   "source": [
    "#Moyenne\n",
    "a = f\"La moyenne de l'age est de {round(var_num['Age'].mean(), 2)} ans et la moyenne du rating est de {round(var_num['Rating'].mean(), 2)}\"\n",
    "print(a)"
   ]
  },
  {
   "cell_type": "code",
   "execution_count": 38,
   "metadata": {},
   "outputs": [
    {
     "data": {
      "text/plain": [
       "Age       45.647059\n",
       "Rating     4.438824\n",
       "dtype: float64"
      ]
     },
     "execution_count": 38,
     "metadata": {},
     "output_type": "execute_result"
    }
   ],
   "source": [
    "#Moyenne\n",
    "var_num.mean()"
   ]
  },
  {
   "cell_type": "code",
   "execution_count": 39,
   "metadata": {},
   "outputs": [
    {
     "data": {
      "text/plain": [
       "Age       49.0\n",
       "Rating     4.3\n",
       "dtype: float64"
      ]
     },
     "execution_count": 39,
     "metadata": {},
     "output_type": "execute_result"
    }
   ],
   "source": [
    "#Médiane\n",
    "var_num.median()"
   ]
  },
  {
   "cell_type": "code",
   "execution_count": 40,
   "metadata": {},
   "outputs": [
    {
     "data": {
      "text/plain": [
       "ModeResult(mode=array([[53.  ,  3.78]]), count=array([[4, 2]]))"
      ]
     },
     "execution_count": 40,
     "metadata": {},
     "output_type": "execute_result"
    }
   ],
   "source": [
    "#Mode de l'âge\n",
    "stats.mode(var_num)"
   ]
  },
  {
   "cell_type": "markdown",
   "metadata": {
    "id": "3ALAcjMph21H"
   },
   "source": [
    "### 5.2 - Analyse de la variance"
   ]
  },
  {
   "cell_type": "code",
   "execution_count": 64,
   "metadata": {},
   "outputs": [
    {
     "data": {
      "text/plain": [
       "array([55, 59, 53, 30, 34, 40, 49], dtype=int64)"
      ]
     },
     "execution_count": 64,
     "metadata": {},
     "output_type": "execute_result"
    }
   ],
   "source": [
    "tendance_centrale[\"Age\"].unique()"
   ]
  },
  {
   "cell_type": "code",
   "execution_count": 41,
   "metadata": {
    "id": "G4lAFV9xh4P7"
   },
   "outputs": [
    {
     "name": "stdout",
     "output_type": "stream",
     "text": [
      "[[4.53, 3.98], [3.54, 4.9], [5.59, 3.8, 4.3, 4.3], [3.5, 4.8, 4.8], [3.78, 3.78], [5.98, 5.98], [3.95, 3.95]]\n",
      "------------------\n",
      "F_onewayResult(statistic=2.6464342372301703, pvalue=0.08370350483249943)\n",
      "------------------\n",
      "On accepte l'hypothèse nulle, les moyennes sont similaires entre les groupes d'âges (la p-value = 0.084 > 0.05)\n"
     ]
    }
   ],
   "source": [
    "#Anova\n",
    "from scipy.stats import f_oneway\n",
    "\n",
    "#f_oneway(tendance_centrale['Age'], tendance_centrale['Rating'])\n",
    "\n",
    "lliste = []\n",
    "a = tendance_centrale['Age'].unique()\n",
    "for i in tendance_centrale['Age'].unique():\n",
    "    a = tendance_centrale[tendance_centrale[\"Age\"] == i]['Rating']\n",
    "    lliste.append(a.to_list())\n",
    "\n",
    "anova = f_oneway(*lliste)\n",
    "print(lliste)\n",
    "print(\"------------------\")\n",
    "print(anova)\n",
    "print(\"------------------\")\n",
    "print(f\"On accepte l'hypothèse nulle, les moyennes sont similaires entre les groupes d'âges (la p-value = {round(anova[1], 3)} > 0.05)\")\n"
   ]
  },
  {
   "cell_type": "code",
   "execution_count": 42,
   "metadata": {},
   "outputs": [
    {
     "data": {
      "text/html": [
       "<div>\n",
       "<style scoped>\n",
       "    .dataframe tbody tr th:only-of-type {\n",
       "        vertical-align: middle;\n",
       "    }\n",
       "\n",
       "    .dataframe tbody tr th {\n",
       "        vertical-align: top;\n",
       "    }\n",
       "\n",
       "    .dataframe thead th {\n",
       "        text-align: right;\n",
       "    }\n",
       "</style>\n",
       "<table border=\"1\" class=\"dataframe\">\n",
       "  <thead>\n",
       "    <tr style=\"text-align: right;\">\n",
       "      <th></th>\n",
       "      <th>Nom</th>\n",
       "      <th>Age</th>\n",
       "      <th>Rating</th>\n",
       "    </tr>\n",
       "  </thead>\n",
       "  <tbody>\n",
       "    <tr>\n",
       "      <th>0</th>\n",
       "      <td>ANATOLE</td>\n",
       "      <td>55</td>\n",
       "      <td>4.53</td>\n",
       "    </tr>\n",
       "    <tr>\n",
       "      <th>1</th>\n",
       "      <td>Vincent</td>\n",
       "      <td>59</td>\n",
       "      <td>3.54</td>\n",
       "    </tr>\n",
       "    <tr>\n",
       "      <th>2</th>\n",
       "      <td>Brenda</td>\n",
       "      <td>55</td>\n",
       "      <td>3.98</td>\n",
       "    </tr>\n",
       "    <tr>\n",
       "      <th>3</th>\n",
       "      <td>Philippe</td>\n",
       "      <td>53</td>\n",
       "      <td>5.59</td>\n",
       "    </tr>\n",
       "    <tr>\n",
       "      <th>4</th>\n",
       "      <td>Michel</td>\n",
       "      <td>30</td>\n",
       "      <td>3.50</td>\n",
       "    </tr>\n",
       "    <tr>\n",
       "      <th>5</th>\n",
       "      <td>Tillier</td>\n",
       "      <td>59</td>\n",
       "      <td>4.90</td>\n",
       "    </tr>\n",
       "    <tr>\n",
       "      <th>6</th>\n",
       "      <td>Blanchard</td>\n",
       "      <td>53</td>\n",
       "      <td>3.80</td>\n",
       "    </tr>\n",
       "    <tr>\n",
       "      <th>7</th>\n",
       "      <td>perez</td>\n",
       "      <td>34</td>\n",
       "      <td>3.78</td>\n",
       "    </tr>\n",
       "    <tr>\n",
       "      <th>8</th>\n",
       "      <td>théo</td>\n",
       "      <td>40</td>\n",
       "      <td>5.98</td>\n",
       "    </tr>\n",
       "    <tr>\n",
       "      <th>9</th>\n",
       "      <td>cyprien</td>\n",
       "      <td>30</td>\n",
       "      <td>4.80</td>\n",
       "    </tr>\n",
       "    <tr>\n",
       "      <th>10</th>\n",
       "      <td>manuella</td>\n",
       "      <td>53</td>\n",
       "      <td>4.30</td>\n",
       "    </tr>\n",
       "    <tr>\n",
       "      <th>11</th>\n",
       "      <td>LEGGERET</td>\n",
       "      <td>49</td>\n",
       "      <td>3.95</td>\n",
       "    </tr>\n",
       "    <tr>\n",
       "      <th>12</th>\n",
       "      <td>perez</td>\n",
       "      <td>34</td>\n",
       "      <td>3.78</td>\n",
       "    </tr>\n",
       "    <tr>\n",
       "      <th>13</th>\n",
       "      <td>sestre</td>\n",
       "      <td>40</td>\n",
       "      <td>5.98</td>\n",
       "    </tr>\n",
       "    <tr>\n",
       "      <th>14</th>\n",
       "      <td>Fazal</td>\n",
       "      <td>30</td>\n",
       "      <td>4.80</td>\n",
       "    </tr>\n",
       "    <tr>\n",
       "      <th>15</th>\n",
       "      <td>Donald</td>\n",
       "      <td>53</td>\n",
       "      <td>4.30</td>\n",
       "    </tr>\n",
       "    <tr>\n",
       "      <th>16</th>\n",
       "      <td>Estelle</td>\n",
       "      <td>49</td>\n",
       "      <td>3.95</td>\n",
       "    </tr>\n",
       "  </tbody>\n",
       "</table>\n",
       "</div>"
      ],
      "text/plain": [
       "           Nom  Age  Rating\n",
       "0      ANATOLE   55    4.53\n",
       "1     Vincent    59    3.54\n",
       "2      Brenda    55    3.98\n",
       "3    Philippe    53    5.59\n",
       "4      Michel    30    3.50\n",
       "5     Tillier    59    4.90\n",
       "6   Blanchard    53    3.80\n",
       "7        perez   34    3.78\n",
       "8        théo    40    5.98\n",
       "9     cyprien    30    4.80\n",
       "10   manuella    53    4.30\n",
       "11   LEGGERET    49    3.95\n",
       "12       perez   34    3.78\n",
       "13    sestre     40    5.98\n",
       "14      Fazal    30    4.80\n",
       "15      Donald   53    4.30\n",
       "16     Estelle   49    3.95"
      ]
     },
     "execution_count": 42,
     "metadata": {},
     "output_type": "execute_result"
    }
   ],
   "source": [
    "a = tendance_centrale.groupby('Age')['Rating'].apply(lambda x: x.to_list()).to_list()\n",
    "moyennes = []\n",
    "ssws = []\n",
    "ssbs = []\n",
    "for group in a:\n",
    "    moyenne = np.mean(group)\n",
    "    #calcul SSW:\n",
    "    ssw = sum([(val-moyenne)**2 for val in group])     \n",
    "    #ajout de la moyenne à la liste moyennes\n",
    "    moyennes.append(moyenne)\n",
    "    \n",
    "moy_g = np.mean(moyennes)\n",
    "tendance_centrale"
   ]
  },
  {
   "cell_type": "code",
   "execution_count": 43,
   "metadata": {},
   "outputs": [
    {
     "data": {
      "text/html": [
       "<div>\n",
       "<style scoped>\n",
       "    .dataframe tbody tr th:only-of-type {\n",
       "        vertical-align: middle;\n",
       "    }\n",
       "\n",
       "    .dataframe tbody tr th {\n",
       "        vertical-align: top;\n",
       "    }\n",
       "\n",
       "    .dataframe thead th {\n",
       "        text-align: right;\n",
       "    }\n",
       "</style>\n",
       "<table border=\"1\" class=\"dataframe\">\n",
       "  <thead>\n",
       "    <tr style=\"text-align: right;\">\n",
       "      <th></th>\n",
       "      <th>sum_sq</th>\n",
       "      <th>df</th>\n",
       "      <th>F</th>\n",
       "      <th>PR(&gt;F)</th>\n",
       "    </tr>\n",
       "  </thead>\n",
       "  <tbody>\n",
       "    <tr>\n",
       "      <th>Age</th>\n",
       "      <td>0.049125</td>\n",
       "      <td>1.0</td>\n",
       "      <td>0.072237</td>\n",
       "      <td>0.791769</td>\n",
       "    </tr>\n",
       "    <tr>\n",
       "      <th>Residual</th>\n",
       "      <td>10.200851</td>\n",
       "      <td>15.0</td>\n",
       "      <td>NaN</td>\n",
       "      <td>NaN</td>\n",
       "    </tr>\n",
       "  </tbody>\n",
       "</table>\n",
       "</div>"
      ],
      "text/plain": [
       "             sum_sq    df         F    PR(>F)\n",
       "Age        0.049125   1.0  0.072237  0.791769\n",
       "Residual  10.200851  15.0       NaN       NaN"
      ]
     },
     "execution_count": 43,
     "metadata": {},
     "output_type": "execute_result"
    }
   ],
   "source": [
    "import statsmodels.api as sm\n",
    "from statsmodels.formula.api import ols\n",
    "\n",
    "# ANOVA Test \n",
    "model = ols('Rating ~ Age', data=tendance_centrale).fit()\n",
    "anova = sm.stats.anova_lm(model, typ=2)\n",
    "\n",
    "anova"
   ]
  },
  {
   "cell_type": "markdown",
   "metadata": {
    "id": "OJGY2xoGh60t"
   },
   "source": [
    "### 5.3 - Analyse de corrélations"
   ]
  },
  {
   "cell_type": "code",
   "execution_count": 44,
   "metadata": {
    "id": "_leEcTsAh70T"
   },
   "outputs": [
    {
     "data": {
      "text/html": [
       "<div>\n",
       "<style scoped>\n",
       "    .dataframe tbody tr th:only-of-type {\n",
       "        vertical-align: middle;\n",
       "    }\n",
       "\n",
       "    .dataframe tbody tr th {\n",
       "        vertical-align: top;\n",
       "    }\n",
       "\n",
       "    .dataframe thead th {\n",
       "        text-align: right;\n",
       "    }\n",
       "</style>\n",
       "<table border=\"1\" class=\"dataframe\">\n",
       "  <thead>\n",
       "    <tr style=\"text-align: right;\">\n",
       "      <th></th>\n",
       "      <th>longueur_sepal</th>\n",
       "      <th>largeur_sepal</th>\n",
       "      <th>longueur_petal</th>\n",
       "      <th>largeur_petal</th>\n",
       "      <th>espece</th>\n",
       "    </tr>\n",
       "  </thead>\n",
       "  <tbody>\n",
       "    <tr>\n",
       "      <th>0</th>\n",
       "      <td>5.1</td>\n",
       "      <td>3.5</td>\n",
       "      <td>1.4</td>\n",
       "      <td>0.2</td>\n",
       "      <td>setosa</td>\n",
       "    </tr>\n",
       "    <tr>\n",
       "      <th>1</th>\n",
       "      <td>4.9</td>\n",
       "      <td>3.0</td>\n",
       "      <td>1.4</td>\n",
       "      <td>0.2</td>\n",
       "      <td>setosa</td>\n",
       "    </tr>\n",
       "    <tr>\n",
       "      <th>2</th>\n",
       "      <td>4.7</td>\n",
       "      <td>3.2</td>\n",
       "      <td>1.3</td>\n",
       "      <td>0.2</td>\n",
       "      <td>setosa</td>\n",
       "    </tr>\n",
       "    <tr>\n",
       "      <th>3</th>\n",
       "      <td>4.6</td>\n",
       "      <td>3.1</td>\n",
       "      <td>1.5</td>\n",
       "      <td>0.2</td>\n",
       "      <td>setosa</td>\n",
       "    </tr>\n",
       "    <tr>\n",
       "      <th>4</th>\n",
       "      <td>5.0</td>\n",
       "      <td>3.6</td>\n",
       "      <td>1.4</td>\n",
       "      <td>0.2</td>\n",
       "      <td>setosa</td>\n",
       "    </tr>\n",
       "  </tbody>\n",
       "</table>\n",
       "</div>"
      ],
      "text/plain": [
       "   longueur_sepal  largeur_sepal  longueur_petal  largeur_petal  espece\n",
       "0             5.1            3.5             1.4            0.2  setosa\n",
       "1             4.9            3.0             1.4            0.2  setosa\n",
       "2             4.7            3.2             1.3            0.2  setosa\n",
       "3             4.6            3.1             1.5            0.2  setosa\n",
       "4             5.0            3.6             1.4            0.2  setosa"
      ]
     },
     "execution_count": 44,
     "metadata": {},
     "output_type": "execute_result"
    }
   ],
   "source": [
    "path_iris = \"bdd/iris.csv\"\n",
    "df_iris = pd.read_csv(path_iris)\n",
    "df_iris.head()"
   ]
  },
  {
   "cell_type": "markdown",
   "metadata": {
    "id": "jfDtCf9MiAHY"
   },
   "source": [
    "#### 5.3.1 - Analyse graphique :"
   ]
  },
  {
   "cell_type": "markdown",
   "metadata": {},
   "source": [
    "##### Nuage de points entre la longueur et la largeur des sépales"
   ]
  },
  {
   "cell_type": "code",
   "execution_count": 45,
   "metadata": {
    "id": "dfiUFB8jiBDX"
   },
   "outputs": [
    {
     "data": {
      "text/plain": [
       "Text(0.5, 1.0, 'Largeur des sépales en fonction de leurs longueurs')"
      ]
     },
     "execution_count": 45,
     "metadata": {},
     "output_type": "execute_result"
    },
    {
     "data": {
      "image/png": "[encoded data removed]",
      "text/plain": [
       "<Figure size 432x288 with 1 Axes>"
      ]
     },
     "metadata": {
      "needs_background": "light"
     },
     "output_type": "display_data"
    }
   ],
   "source": [
    "#Données\n",
    "x_sepal = df_iris['longueur_sepal']\n",
    "y_sepal = df_iris['largeur_sepal']\n",
    "\n",
    "#plot 1 - Sepal\n",
    "fig, ax = plt.subplots()\n",
    "\n",
    "ax.scatter(x_sepal, y_sepal, c = 'salmon')\n",
    "ax.set_xlabel('longueur des sépales')\n",
    "ax.set_ylabel('largeur des sépales')\n",
    "ax.set_title('Largeur des sépales en fonction de leurs longueurs')"
   ]
  },
  {
   "cell_type": "markdown",
   "metadata": {},
   "source": [
    "##### Nuage de points entre la longueur et la largeur des pétales"
   ]
  },
  {
   "cell_type": "code",
   "execution_count": 46,
   "metadata": {},
   "outputs": [
    {
     "data": {
      "text/plain": [
       "Text(0.5, 1.0, 'Largeur des pétales en fonction de leurs longueurs')"
      ]
     },
     "execution_count": 46,
     "metadata": {},
     "output_type": "execute_result"
    },
    {
     "data": {
      "image/png": "[encoded data removed]",
      "text/plain": [
       "<Figure size 432x288 with 1 Axes>"
      ]
     },
     "metadata": {
      "needs_background": "light"
     },
     "output_type": "display_data"
    }
   ],
   "source": [
    "#Données\n",
    "x_petal = df_iris['longueur_petal']\n",
    "y_petal = df_iris['largeur_petal']\n",
    "\n",
    "#plot 2 - Petal\n",
    "fig,ax = plt.subplots()\n",
    "\n",
    "ax.scatter(x_petal, y_petal, c = 'darkcyan', marker = '^')\n",
    "ax.set_xlabel('longueur des pétales')\n",
    "ax.set_ylabel('largeur des pétales')\n",
    "ax.set_title('Largeur des pétales en fonction de leurs longueurs')"
   ]
  },
  {
   "cell_type": "code",
   "execution_count": 52,
   "metadata": {},
   "outputs": [
    {
     "data": {
      "text/plain": [
       "<seaborn.axisgrid.PairGrid at 0x18ae1d5d700>"
      ]
     },
     "execution_count": 52,
     "metadata": {},
     "output_type": "execute_result"
    },
    {
     "data": {
      "image/png": "[encoded data removed]",
      "text/plain": [
       "<Figure size 804.75x720 with 20 Axes>"
      ]
     },
     "metadata": {
      "needs_background": "light"
     },
     "output_type": "display_data"
    }
   ],
   "source": [
    "import seaborn as sns\n",
    "sns.pairplot(df_iris, hue = 'espece')"
   ]
  },
  {
   "cell_type": "markdown",
   "metadata": {
    "id": "J8_7KadTiB3x"
   },
   "source": [
    "#### 5.3.2 - Analyse mathématique :"
   ]
  },
  {
   "cell_type": "markdown",
   "metadata": {},
   "source": [
    "##### Corrélation entre la longueur et la largeur des sépales"
   ]
  },
  {
   "cell_type": "code",
   "execution_count": 48,
   "metadata": {},
   "outputs": [
    {
     "name": "stdout",
     "output_type": "stream",
     "text": [
      "Il n'existe pas de corrélation entre la longueur et la largeur des sépales, le coefficient de corrélation est de r: -0.118 et une p-value de 0.152 > 0.05.\n"
     ]
    }
   ],
   "source": [
    "result1 = stats.pearsonr(x_sepal, y_sepal)\n",
    "print(f\"Il n'existe pas de corrélation entre la longueur et la largeur des sépales, le coefficient de corrélation est de r: {round(result1[0], 3)} et une p-value de {round(result1[1], 3)} > 0.05.\")"
   ]
  },
  {
   "cell_type": "code",
   "execution_count": 49,
   "metadata": {},
   "outputs": [
    {
     "data": {
      "text/plain": [
       "(-0.11756978413300204, 0.15189826071144918)"
      ]
     },
     "execution_count": 49,
     "metadata": {},
     "output_type": "execute_result"
    }
   ],
   "source": [
    "result1_bis = stats.pearsonr(y_sepal, x_sepal)\n",
    "result1_bis"
   ]
  },
  {
   "cell_type": "markdown",
   "metadata": {
    "id": "yfn-rrRTiEnV"
   },
   "source": [
    "##### Corrélation entre la longueur et la largeur des pétales"
   ]
  },
  {
   "cell_type": "code",
   "execution_count": 50,
   "metadata": {},
   "outputs": [
    {
     "name": "stdout",
     "output_type": "stream",
     "text": [
      "Il existe une corrélation positive entre la longueur et la largeur des pétales, le coefficient de corrélation est de r: 0.963, avec une p-value de 4.6750039073285846e-86 < 0.05, statistiquement significative.\n"
     ]
    }
   ],
   "source": [
    "result2 = stats.pearsonr(x_petal, y_petal)\n",
    "print(f\"Il existe une corrélation positive entre la longueur et la largeur des pétales, le coefficient de corrélation est de r: {round(result2[0], 3)}, avec une p-value de {result2[1]} < 0.05, statistiquement significative.\")"
   ]
  },
  {
   "cell_type": "code",
   "execution_count": 51,
   "metadata": {},
   "outputs": [
    {
     "data": {
      "text/plain": [
       "(0.962865431402796, 4.6750039073285846e-86)"
      ]
     },
     "execution_count": 51,
     "metadata": {},
     "output_type": "execute_result"
    }
   ],
   "source": [
    "result2_bis = stats.pearsonr(y_petal, x_petal)\n",
    "result2_bis"
   ]
  },
  {
   "cell_type": "code",
   "execution_count": 57,
   "metadata": {},
   "outputs": [
    {
     "data": {
      "text/html": [
       "<div>\n",
       "<style scoped>\n",
       "    .dataframe tbody tr th:only-of-type {\n",
       "        vertical-align: middle;\n",
       "    }\n",
       "\n",
       "    .dataframe tbody tr th {\n",
       "        vertical-align: top;\n",
       "    }\n",
       "\n",
       "    .dataframe thead th {\n",
       "        text-align: right;\n",
       "    }\n",
       "</style>\n",
       "<table border=\"1\" class=\"dataframe\">\n",
       "  <thead>\n",
       "    <tr style=\"text-align: right;\">\n",
       "      <th></th>\n",
       "      <th>longueur_sepal</th>\n",
       "      <th>largeur_sepal</th>\n",
       "      <th>longueur_petal</th>\n",
       "      <th>largeur_petal</th>\n",
       "    </tr>\n",
       "  </thead>\n",
       "  <tbody>\n",
       "    <tr>\n",
       "      <th>longueur_sepal</th>\n",
       "      <td>1.000000</td>\n",
       "      <td>-0.117570</td>\n",
       "      <td>0.871754</td>\n",
       "      <td>0.817941</td>\n",
       "    </tr>\n",
       "    <tr>\n",
       "      <th>largeur_sepal</th>\n",
       "      <td>-0.117570</td>\n",
       "      <td>1.000000</td>\n",
       "      <td>-0.428440</td>\n",
       "      <td>-0.366126</td>\n",
       "    </tr>\n",
       "    <tr>\n",
       "      <th>longueur_petal</th>\n",
       "      <td>0.871754</td>\n",
       "      <td>-0.428440</td>\n",
       "      <td>1.000000</td>\n",
       "      <td>0.962865</td>\n",
       "    </tr>\n",
       "    <tr>\n",
       "      <th>largeur_petal</th>\n",
       "      <td>0.817941</td>\n",
       "      <td>-0.366126</td>\n",
       "      <td>0.962865</td>\n",
       "      <td>1.000000</td>\n",
       "    </tr>\n",
       "  </tbody>\n",
       "</table>\n",
       "</div>"
      ],
      "text/plain": [
       "                longueur_sepal  largeur_sepal  longueur_petal  largeur_petal\n",
       "longueur_sepal        1.000000      -0.117570        0.871754       0.817941\n",
       "largeur_sepal        -0.117570       1.000000       -0.428440      -0.366126\n",
       "longueur_petal        0.871754      -0.428440        1.000000       0.962865\n",
       "largeur_petal         0.817941      -0.366126        0.962865       1.000000"
      ]
     },
     "execution_count": 57,
     "metadata": {},
     "output_type": "execute_result"
    }
   ],
   "source": [
    "correlation = df_iris.corr()\n",
    "correlation"
   ]
  },
  {
   "cell_type": "code",
   "execution_count": 56,
   "metadata": {},
   "outputs": [
    {
     "data": {
      "text/plain": [
       "<matplotlib.axes._subplots.AxesSubplot at 0x18ae6a931f0>"
      ]
     },
     "execution_count": 56,
     "metadata": {},
     "output_type": "execute_result"
    },
    {
     "data": {
      "image/png": "[encoded data removed]",
      "text/plain": [
       "<Figure size 432x288 with 2 Axes>"
      ]
     },
     "metadata": {
      "needs_background": "light"
     },
     "output_type": "display_data"
    }
   ],
   "source": [
    "sns.heatmap(correlation)"
   ]
  },
  {
   "cell_type": "code",
   "execution_count": null,
   "metadata": {},
   "outputs": [],
   "source": []
  }
 ],
 "metadata": {
  "colab": {
   "collapsed_sections": [],
   "name": "Brief01_TA_PL.ipynb",
   "provenance": []
  },
  "kernelspec": {
   "display_name": "Python 3",
   "language": "python",
   "name": "python3"
  },
  "language_info": {
   "codemirror_mode": {
    "name": "ipython",
    "version": 3
   },
   "file_extension": ".py",
   "mimetype": "text/x-python",
   "name": "python",
   "nbconvert_exporter": "python",
   "pygments_lexer": "ipython3",
   "version": "3.8.3"
  }
 },
 "nbformat": 4,
 "nbformat_minor": 1
}
